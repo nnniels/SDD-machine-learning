{
  "cells": [
    {
      "cell_type": "markdown",
      "metadata": {
        "id": "WhTMijOmx3Jl"
      },
      "source": [
        "<a rel=\"license\" href=\"http://creativecommons.org/licenses/by-nc-sa/4.0/\"><img alt=\"Creative Commons License\" align=\"left\" src=\"https://i.creativecommons.org/l/by-nc-sa/4.0/80x15.png\" /></a>&nbsp;| [Emmanuel Rachelson](https://personnel.isae-supaero.fr/emmanuel-rachelson?lang=en) | <a href=\"https://supaerodatascience.github.io/machine-learning/\">https://supaerodatascience.github.io/machine-learning/</a>"
      ]
    },
    {
      "cell_type": "markdown",
      "metadata": {
        "id": "u4Ejl2Gox3Jq"
      },
      "source": [
        "<div style=\"font-size:22pt; line-height:25pt; font-weight:bold; text-align:center;\">Bayesian models for Machine Learning<br>Gaussian Processes</div>\n",
        "\n",
        "Suppose we want to predict the probability that sample $x$ has label $y$. This is a probability estimation problem that can be written:\n",
        "$$\\mathbb{P}(Y=y|X=x)$$\n",
        "\n",
        "According to Bayes' theorem, we have:\n",
        "$$\\mathbb{P}(Y=y|X=x) =\\frac{\\mathbb{P}(X=x|Y=y)\\cdot\\mathbb{P}(Y=y)}{\\mathbb{P}(X=x)}$$\n",
        "$$\\textrm{posterior} = \\frac{\\textrm{likelihood}\\cdot\\textrm{prior}}{\\textrm{evidence}}$$\n",
        "\n",
        "<div class=\"alert alert-success\">\n",
        "    \n",
        "**Bayesian inference** is the problem of estimating this **posterior distribution**.<br>\n",
        "In plain words, it consists in estimating the probability of label $y$, given an input $x$, using previously seen data to estimate the **likelihood** of an $x$ input associated to label $y$ and the general **prior** probability of observing label $y$.\n",
        "</div>\n",
        "\n",
        "Note that Bayesian inference applies both to classification and regression.\n",
        "\n",
        "The goal of Bayesian inference is to estimate the label distribution for a given $x$ and use them to predict the correct label, so it is a *probabilistic approach to Machine Learning*.\n",
        "\n",
        "The Bayesian predictor (classifier or regressor) returns the label that maximizes the posterior probability distribution.\n",
        "\n",
        "In this (second) notebook on Bayesian modeling in ML, we will explore Gaussian Processes.\n",
        "\n",
        "1. [A reminder on Gaussian distributions](#sec1)\n",
        "2. [Back to the regression problem](#sec2)\n",
        "3. [Gaussian Processes for classification](#sec3)\n",
        "4. [Examples](#sec4)\n",
        "    1. [Spam or ham?](#sec4-1)\n",
        "    2. [NIST](#sec4-2)"
      ]
    },
    {
      "cell_type": "markdown",
      "metadata": {
        "id": "M5XuTT0dx3Jr"
      },
      "source": [
        "Suppose we want to learn a certain phenomenon $f(x)$, given some measurements $y = f(x)$ + noise.\n",
        "\n",
        "For example, that could be learning the pressure $P$ across the wingspan of a plane as a function of the position $l$ on the wing, the Mach value $M$, and the temperature $T$ (so $x=(l,M,T)$).\n",
        "\n",
        "Let's suppose that for a given value of $x$, the corresponding observation $y$ follows a Gaussian distribution of mean $\\mu$ and variance $\\sigma^2$.\n",
        "\n",
        "Need a reminder on Gaussian distributions?\n",
        "\n",
        "# 1. <a id=\"sec1\"></a>A reminder on Gaussian distributions\n",
        "\n",
        "A Gaussian (or Normal) distributed variable has the following probability density function. The mean $\\mu$ is the most frequent value observed for this variable, while the variance $\\sigma^2$ indicates the diversity of values that $y$ often takes (how the distribution is spread-out along $y$).\n",
        "\n",
        "We say that $y$ is drawn from the Gaussian distribution of mean $\\mu$ and variance $\\sigma^2$ and write:\n",
        "$$y \\sim \\mathcal{N}\\left(\\mu,\\sigma\\right)$$"
      ]
    },
    {
      "cell_type": "code",
      "execution_count": 17,
      "metadata": {
        "ExecuteTime": {
          "end_time": "2019-10-21T12:43:36.714298Z",
          "start_time": "2019-10-21T12:43:35.925180Z"
        },
        "id": "KTou3XDFx3Jr",
        "outputId": "20108e95-4f3a-4df5-c4f6-c5337a13dfe5",
        "colab": {
          "base_uri": "https://localhost:8080/",
          "height": 543
        }
      },
      "outputs": [
        {
          "output_type": "display_data",
          "data": {
            "text/plain": [
              "<Figure size 640x640 with 1 Axes>"
            ],
            "image/png": "[encoded data removed]"
          },
          "metadata": {}
        }
      ],
      "source": [
        "import numpy as np\n",
        "%matplotlib inline\n",
        "import matplotlib.pyplot as plt\n",
        "from scipy.stats import norm\n",
        "\n",
        "mu = 0.0\n",
        "sigma = 2.0\n",
        "x = np.linspace(-10., 10, 100)\n",
        "fig=plt.figure(figsize=(8, 8), dpi= 80, facecolor='w', edgecolor='k')\n",
        "plt.plot(x, norm(mu,sigma).pdf(x));"
      ]
    },
    {
      "cell_type": "markdown",
      "metadata": {
        "id": "qOYOj18Tx3Ju"
      },
      "source": [
        "Now, take two values $x_1$ and $x_2$. The value taken by $y$ in $x_1$ is not independent of the value in $x_2$; we shall say that $y_1$ and $y_2$ are **correlated**. For example, the pressures $P$ in close $(l,M,T)$ values take values that are linked together.\n",
        "\n",
        "Let's still suppose the pair $(y_1,y_2)$ follows a Gaussian distribution in $x_1$ and $x_2$, with mean $(\\mu_1,\\mu_2)$. While the variance in the monovariate case was given by a single scalar $\\sigma^2$, now it is given by a covariance matrix $\\Sigma = \\left[\\begin{array}{cc} \\sigma_{11} & \\sigma_{12}\\\\ \\sigma_{12} & \\sigma_{22} \\end{array}\\right]$ that depicts how the distribution spreads in the $(y_1,y_2)\\in\\mathbb{R}^2$ plane.\n",
        "\n",
        "$$\\left[\\begin{array}{c}y_1\\\\y_2\\end{array}\\right] \\sim \\mathcal{N}\\left( \\left[\\begin{array}{c} \\mu_1\\\\\\mu_2\\end{array}\\right], \\Sigma\\right)$$"
      ]
    },
    {
      "cell_type": "code",
      "execution_count": 18,
      "metadata": {
        "ExecuteTime": {
          "end_time": "2019-10-21T12:46:08.327088Z",
          "start_time": "2019-10-21T12:46:07.879181Z"
        },
        "id": "oE8ubOt4x3Ju",
        "outputId": "10a0cb85-552d-4269-8c3c-199d65c66a4f",
        "colab": {
          "base_uri": "https://localhost:8080/",
          "height": 612
        }
      },
      "outputs": [
        {
          "output_type": "stream",
          "name": "stdout",
          "text": [
            "mu = [0.0, 0.0]\n",
            "sigma:\n",
            "[[2.  0.4]\n",
            " [0.4 0.5]]\n"
          ]
        },
        {
          "output_type": "display_data",
          "data": {
            "text/plain": [
              "<Figure size 640x640 with 1 Axes>"
            ],
            "image/png": "[encoded data removed]"
          },
          "metadata": {}
        }
      ],
      "source": [
        "from scipy.stats import multivariate_normal\n",
        "x,y = np.mgrid[-1:1:.01, -1:1:.01]\n",
        "pos = np.dstack((x, y))\n",
        "mu = [0.0, 0.0]\n",
        "sigma = np.array([[2.0, 0.4], [0.4, 0.5]])\n",
        "fig=plt.figure(figsize=(8, 8), dpi= 80, facecolor='w', edgecolor='k')\n",
        "plt.contourf(x, y, multivariate_normal(mu, sigma).pdf(pos));\n",
        "print(\"mu =\",mu)\n",
        "print(\"sigma:\")\n",
        "print(sigma)"
      ]
    },
    {
      "cell_type": "markdown",
      "metadata": {
        "id": "MybbVzm6x3Jv"
      },
      "source": [
        "The covariance matrix indicates how the values of $y_1$ are centered around $\\mu_1$ (through $\\sigma_{11}$) and correlated with the value of $y_2$ (through $\\sigma_{12}$). In particular, $\\sigma_{12}$ indicates how similar the evolution of $y_1$ and $y_2$ are. Suppose we measure a sample $(\\hat{y}_1, \\hat{y}_2)$:\n",
        "- having $\\sigma_{12}>0$ indicates that if $\\hat{y}_1>\\mu_1$ then it is likely that $\\hat{y}_2>\\mu_2$ in a proportional fashion,\n",
        "- conversely $\\sigma_{12}<0$ indicates that $\\hat{y}_1$ and $\\hat{y}_2$ evolve in opposite directions relatively to their respective means,\n",
        "- $\\sigma_{12}=0$ means that $y_1$ and $y_2$ are independent: a sample of the former gives no information about how likely it is that the latter is greater or smaller than its mean.\n",
        "\n",
        "If there are $N$ such points $x_i$, and we assume again a Gaussian distribution of $y$, we end up with a mean $(\\mu_1,\\ldots,\\mu_N)$ and a covariance matrix $\\Sigma = \\left[\\begin{array}{ccc} \\sigma_{11} & \\ldots & \\sigma_{1N}\\\\ \\vdots & \\ddots & \\vdots \\\\ \\sigma_{1N} & \\ldots & \\sigma_{NN} \\end{array}\\right]$.\n",
        "\n",
        "$$\\left[\\begin{array}{c}y_1\\\\ \\vdots\\\\y_N \\end{array}\\right] \\sim \\mathcal{N}\\left( \\left[\\begin{array}{c} \\mu_1\\\\ \\vdots \\\\ \\mu_N\\end{array}\\right], \\Sigma\\right)$$\n",
        "\n",
        "Let's generalize to any number of points:\n",
        "- The mean becomes $\\mu(x)$\n",
        "- The covariance matrix can be obtained through a **covariance kernel** $k(x,x')$\n",
        "\n",
        "For a finite set of points $(x_1,\\ldots,x_N)$, the corresponding $(y_1,\\ldots,y_N)$ follow a Gaussian distribution of mean $(\\mu(x_1),\\ldots,\\mu(x_N))$ and of covariance matrix $\\Sigma = \\left[\\begin{array}{ccc} k(x_1,x_1) & \\ldots & k(x_1,x_N)\\\\ \\vdots & \\ddots & \\vdots \\\\ k(x_1,x_N) & \\ldots & k(x_N,x_N) \\end{array}\\right]$.\n",
        "\n",
        "$$\\left[\\begin{array}{c}y_1\\\\ \\vdots\\\\y_N \\end{array}\\right] \\sim \\mathcal{N}\\left( \\left[\\begin{array}{c} \\mu(x_1)\\\\ \\vdots \\\\ \\mu(x_N)\\end{array}\\right], \\Sigma\\right)$$\n",
        "\n",
        "The information of $\\mu(x)$ and $k(x,x')$ defines a **Gaussian Process**. If we were able to learn a certain hidden function $f$ as a Gaussian Process, not only would we have the average function that fits $f$ best, but we would also have the probability that any other function fits $f$. In other words, in any new point $x$, we would have the average prediction $\\mu(x)$ but also an **uncertainty estimation** through the variance estimate $\\sigma(x)$."
      ]
    },
    {
      "cell_type": "markdown",
      "metadata": {
        "id": "Go-MoAkvx3Jw"
      },
      "source": [
        "# <a id=\"sec2\"></a>2. Back to the regression problem\n",
        "\n",
        "So we assume that $y$ is drawn from a Gaussian Process.\n",
        "\n",
        "Recall that $\\mu(x)$ is the mean of the distribution in $x$ and that $k(x,x')$ describes how similar the values of $y$ and $y'$ (resp. in $x$ and $x'$) are likely to be spread around their respective means.\n",
        "\n",
        "To make things simple, assume that the Gaussian Process describing $f$ has mean zero, so $\\mu(x)=0$ everywhere. So what relates an observation to another is just the covariance function $k(x,x')$.\n",
        "\n",
        "A common covariance function is the so-called **squared exponential**:\n",
        "$$k(x,x') = \\sigma^2 e^{-\\frac{(x-x')^2}{2 l^2}}$$\n",
        "\n",
        "With this covariance function, the correlation between $y$ and $y'$ is high when $x$ and $x'$ are close. As $x$ and $x'$ get further from each other, $y$ and $y'$ tend to become independent.\n",
        "\n",
        "Since we assume that the observed data $\\left\\{(x_i,y_i)\\right\\}_{i=1...N}$ are drawn from a Gaussian distribution and that any new point $(x,y)$ should be drawn from that distribution too, we can write:\n",
        "\n",
        "$$\\left[\\begin{array}{c}y_1\\\\ \\vdots\\\\y_N \\\\y \\end{array}\\right] \\sim \\mathcal{N}\\left( 0_{N+1}, \\left[\\begin{array}{cccc}\n",
        "k(x_1,x_1) & \\ldots & k(x_1,x_N) & k(x_1, x)\\\\\n",
        "\\vdots     & \\ddots & \\vdots     & \\vdots \\\\\n",
        "k(x_1,x_N) & \\ldots & k(x_N,x_N) & k(x_N,x)\\\\\n",
        "k(x_1, x)  & \\ldots & k(x_N,x)   & k(x,x)\n",
        "\\end{array}\\right] \\right)$$\n",
        "\n",
        "(where $0_{N+1}$ is the $N+1$ dimensional zero vector)\n",
        "\n",
        "The line above simply states that all points, both the observed data points and the new points on which we wish to make a prediction, are drawn according to the same Gaussian Process. Let's simplify the writing using vector notation. Let's write:\n",
        "- the data points $\\mathbf{y} = \\left[y_1,\\ldots,y_N\\right]$ and $\\mathbf{x} = \\left[x_1,\\ldots,x_N\\right]$,\n",
        "- the data covariance matrix $K = \\left[\\begin{array}{ccc}\n",
        "k(x_1,x_1) & \\ldots & k(x_1,x_N)\\\\\n",
        "\\vdots     & \\ddots & \\vdots\\\\\n",
        "k(x_1,x_N) & \\ldots & k(x_N,x_N)\n",
        "\\end{array}\\right]$\n",
        "- The cross-covariance vector $K_*(x) = \\left[k(x_1, x), \\ldots, k(x_N,x)\\right]$\n",
        "\n",
        "Then we have:\n",
        "$$\\left[\\begin{array}{c}\\mathbf{y}\\\\y \\end{array}\\right] \\sim \\mathcal{N}\\left( 0_{N+1}, \\left[\\begin{array}{cc}\n",
        "K & K_*(x)^T\\\\\n",
        "K_*(x) & k(x,x)\n",
        "\\end{array}\\right] \\right)$$\n",
        "\n",
        "Let's take a step back. What we have written so far is the probability $\\mathbb{P}(\\mathbf{y},y|\\mathbf{x},x)$. But what we are interested in is the posterior distribution $\\mathbb{P}(y|\\mathbf{x},\\mathbf{y},x)$; that is \"the probability of the prediction $y$, given the data $(\\mathbf{x},\\mathbf{y})$\". So let's use Bayes theorem:\n",
        "\n",
        "$$\\mathbb{P}(y|\\mathbf{x},\\mathbf{y},x) = \\frac{\\mathbb{P}(\\mathbf{y},y|\\mathbf{x},x)}{\\mathbb{P}(\\mathbf{y}|\\mathbf{x},x)}$$\n",
        "\n",
        "It appears that because we have assumed that the values were drawn from a Gaussian Process, this posterior follows a Gaussian distribution too:\n",
        "$$\\mathbb{P}(y|\\mathbf{x},\\mathbf{y},x) = \\mathcal{N}\\left( K_*(x)K^{-1} \\mathbf{y}, k(x,x) - K_*(x) K^{-1} K_*(x)^T\\right)$$\n",
        "\n",
        "Consequently, our best estimate for $y$ is the mean of this distribution:\n",
        "$$\\bar{y} = K_*(x) K^{-1} \\mathbf{y}$$\n",
        "\n",
        "And the uncertainty in this estimate is captured by the variance:\n",
        "$$\\sigma(y)^2 = k(x,x)- K_*(x)K^{-1}K_*(x)^T$$\n",
        "\n",
        "<div class=\"alert alert-success\">\n",
        "Given the input data $\\mathbf{y} = \\left[y_1,\\ldots,y_N\\right]$ and $\\mathbf{x} = \\left[x_1,\\ldots,x_N\\right]$, and given a covariance kernel $k(x,x')$, a Gaussian Process regressor estimates the distribution of $y(x)$ as a Gaussian $\\mathcal{N}(\\mu,\\sigma)$ with:\n",
        "<ul>\n",
        "<li> $\\mu = K_*(x)K^{-1} \\mathbf{y}$\n",
        "<li> $\\sigma(y)^2 = k(x,x) - K_*(x)K^{-1}K_*(x)^T$\n",
        "</ul>\n",
        "where:\n",
        "<ul>\n",
        "<li> $K = \\left[\\begin{array}{ccc}\n",
        "k(x_1,x_1) & \\ldots & k(x_1,x_N)\\\\\n",
        "\\vdots     & \\ddots & \\vdots\\\\\n",
        "k(x_1,x_N) & \\ldots & k(x_N,x_N)\n",
        "\\end{array}\\right]$\n",
        "<li>$K_*(x) = \\left[k(x_1, x), \\ldots, k(x_N,x)\\right]$\n",
        "</ul>\n",
        "</div>\n",
        "\n",
        "Let's take a concrete example.\n",
        "\n",
        "Suppose the hidden function we want to learn is $f(x) = x \\sin(x)$.\n",
        "\n",
        "Suppose the observation is drawn as $y = f(x) + \\mathcal{N}(0, \\sigma_n^2)$.\n",
        "\n",
        "Let's draw 10 data samples and try to obtain the best fit function and confidence intervals."
      ]
    },
    {
      "cell_type": "code",
      "execution_count": 19,
      "metadata": {
        "ExecuteTime": {
          "end_time": "2019-10-21T13:13:58.906230Z",
          "start_time": "2019-10-21T13:13:58.344239Z"
        },
        "scrolled": false,
        "id": "GbGmfkHQx3Jw",
        "outputId": "47121f95-45bc-4cca-9af3-0c8ca1dc5212",
        "colab": {
          "base_uri": "https://localhost:8080/",
          "height": 631
        }
      },
      "outputs": [
        {
          "output_type": "stream",
          "name": "stderr",
          "text": [
            "<>:15: SyntaxWarning: invalid escape sequence '\\,'\n",
            "<>:15: SyntaxWarning: invalid escape sequence '\\,'\n",
            "/tmp/ipython-input-718402990.py:15: SyntaxWarning: invalid escape sequence '\\,'\n",
            "  plt.plot(x, func(x), 'r:', label=u'$f(x) = x\\,\\sin(x)$')\n"
          ]
        },
        {
          "output_type": "display_data",
          "data": {
            "text/plain": [
              "<Figure size 640x640 with 1 Axes>"
            ],
            "image/png": "[encoded data removed]"
          },
          "metadata": {}
        }
      ],
      "source": [
        "def func(x):\n",
        "    return x*np.sin(x)\n",
        "\n",
        "sigma_noise = 0.3\n",
        "def observation(x):\n",
        "    return func(x) + np.random.normal(0,sigma_noise,x.shape[0])\n",
        "\n",
        "X = np.linspace(-5,10,10)\n",
        "N = X.shape[0]\n",
        "Y = observation(X)\n",
        "x = np.linspace(-5,10,100)\n",
        "\n",
        "\n",
        "fig=plt.figure(figsize=(8,8), dpi= 80, facecolor='w', edgecolor='k')\n",
        "plt.plot(x, func(x), 'r:', label=u'$f(x) = x\\,\\sin(x)$')\n",
        "plt.plot(X, Y, 'r.', markersize=10, label=u'Observations')\n",
        "plt.xlabel('$x$')\n",
        "plt.ylabel('$f(x)$')\n",
        "plt.ylim(-6, 10)\n",
        "plt.legend(loc='upper left');"
      ]
    },
    {
      "cell_type": "markdown",
      "metadata": {
        "id": "1SPg70wOx3Jx"
      },
      "source": [
        "#### Covariance Kernels"
      ]
    },
    {
      "cell_type": "markdown",
      "metadata": {
        "id": "O6rviQanx3Jx"
      },
      "source": [
        "First, we can implement the simplest quadratic kernel:\n",
        "$$k(x_1, x_2) = \\sigma_k^2\\  (x_1 . x_2^{\\top})$$\n",
        "\n",
        "Where $ \\sigma_k$ is the variance of the process."
      ]
    },
    {
      "cell_type": "code",
      "execution_count": 20,
      "metadata": {
        "id": "JcR8FfJcx3Jy"
      },
      "outputs": [],
      "source": [
        "sigma_kernel = 0.2\n",
        "def kernel(x1,x2,sigma_kernel,l,sigma_noise):\n",
        "    k = sigma_kernel**2*np.dot(x1,x2.T)\n",
        "    return k + sigma_noise*(x1==x2)"
      ]
    },
    {
      "cell_type": "markdown",
      "metadata": {
        "id": "QWvO2mklx3Jy"
      },
      "source": [
        "We can have a variety of other kernels that are more complicated and more realistic to model the uncertainties, for example:\n",
        "\\begin{align}\n",
        "\\exp\\left( -\\frac12 \\left(\\frac{\\lVert x - y \\rVert}{l}\\right)^\\beta \\right)\n",
        "&\\qquad\\text{ for $0 < \\beta \\le 2$ ($\\beta = 2$ is square exponential, $\\beta = 1$ is absolute exponential)}\n",
        "\\\\\n",
        "\\lVert x - z_0 \\rVert + \\lVert y - z_0 \\rVert - \\lVert x - y \\rVert\n",
        "&\\qquad\\text{ for any $z_0$ (\"distance kernel\")}\n",
        "\\\\\n",
        "\\frac{1}{\\sqrt{\\lVert x - y \\rVert^2 + c}}\n",
        "&\\qquad\\text{ (inverse multiquadric)}\n",
        "\\\\\n",
        "\\left( 1 + \\frac{\\lVert x - y \\rVert^2}{2 \\alpha \\ell^2} \\right)^{-\\alpha}\n",
        "&\\qquad\\text{ (rational quadratic; $\\alpha \\to \\infty$ becomes Gaussian)}\n",
        "\\end{align}"
      ]
    },
    {
      "cell_type": "markdown",
      "metadata": {
        "id": "rwmqsXaHx3Jy"
      },
      "source": [
        "In our case, we will use the square exponential kernel because it is a smooth kernel.\n",
        "\n",
        "For our 1-dimensional example, this kernel writes as:\n",
        "$$k(x_1, x_2) =  \\sigma_k^2 \\exp\\left( -\\frac{1}{2 l^2} \\lVert x_1 - x_2 \\rVert^2 \\right).$$\n",
        "\n",
        "Where $ \\sigma_k$ is the variance of the process and $l$ is a correlation length."
      ]
    },
    {
      "cell_type": "markdown",
      "metadata": {
        "id": "hS9cyQr6x3Jy"
      },
      "source": [
        "<div class=\"alert alert-warning\">\n",
        "    \n",
        "**Exercice:**<br>\n",
        "Your turn to play. Define the kernel above in the cell below. Afterwards, we also want to add a noise but for this exercice, you just need to code the non-noisy part.\n",
        "</div>"
      ]
    },
    {
      "cell_type": "markdown",
      "metadata": {
        "id": "qkjvQykix3Jy"
      },
      "source": [
        "To find the best function, we need a covariance kernel. We will take the square exponential kernel with arbitrary $\\sigma$ and $l$ parameters and will modify it slightly to account for the measurement noise $\\sigma_n$. Then we simply apply the formula above.\n"
      ]
    },
    {
      "cell_type": "code",
      "execution_count": 21,
      "metadata": {
        "ExecuteTime": {
          "end_time": "2019-10-21T13:30:16.392768Z",
          "start_time": "2019-10-21T13:30:16.385442Z"
        },
        "id": "nyKpbf3nx3Jz"
      },
      "outputs": [],
      "source": [
        "sigma_kernel = 0.2\n",
        "l=0.3"
      ]
    },
    {
      "cell_type": "code",
      "execution_count": 22,
      "metadata": {
        "id": "_1twBxyqx3Jz"
      },
      "outputs": [],
      "source": [
        "# %load solutions/code4.py\n",
        "# If you get stuck, uncomment the line above to load a correction in this cell (then you can execute this code).\n",
        "def kernel(x1,x2,sigma_kernel,l,sigma_noise):\n",
        "    ### WRITE YOUR CODE HERE\n",
        "    k =  sigma_kernel**2*np.exp(  -(x1-x2)**2/(2*l**2)  ) # np.sum ?\n",
        "    return k + sigma_noise*(x1==x2)"
      ]
    },
    {
      "cell_type": "markdown",
      "metadata": {
        "id": "YejB6Tkox3Jz"
      },
      "source": [
        "<div class=\"alert alert-warning\">\n",
        "    \n",
        "**Exercice:**<br>\n",
        "Define two functions `compute_K(X,sigma_kernel,l,sigma_noise)` (that returns the covariance matrix) and `GPpredict(x_new, x_data, y_data, Kinv)` (that returns the mean and standard deviation of the output value) below.\n",
        "</div>"
      ]
    },
    {
      "cell_type": "code",
      "execution_count": 27,
      "metadata": {
        "ExecuteTime": {
          "end_time": "2019-10-21T13:30:17.235928Z",
          "start_time": "2019-10-21T13:30:17.229347Z"
        },
        "id": "dS7tIYp6x3J0"
      },
      "outputs": [],
      "source": [
        "# %load solutions/code5.py\n",
        "### WRITE YOUR CODE HERE\n",
        "# If you get stuck, uncomment the line above to load a correction in this cell (then you can execute this code).\n",
        "\n",
        "def compute_K(X,sigma_kernel,l,sigma_noise):\n",
        "    ### FILL THE VALUES OF K\n",
        "    n = len(X)\n",
        "    K = np.zeros((n, n))\n",
        "    for i in range(n):\n",
        "        for j in range(n):\n",
        "            K[i,j] = kernel(X[i],X[j],sigma_kernel,l,sigma_noise)\n",
        "    return K\n",
        "\n",
        "def GPpredict(x_new, x_data, y_data, Kinv):\n",
        "    ### COMPUTE MEAN AND STANDARD DEVIATION\n",
        "    n = len(x_data)\n",
        "    K = np.zeros((n+1, n+1))\n",
        "\n",
        "    # compute last line and last column\n",
        "    Kstar = np.zeros((1,n))\n",
        "    for i in range(n):\n",
        "        Kstar[0,i] = kernel(x_data[i], x_new, sigma_kernel, l, sigma_noise)\n",
        "    # according to the boss (in md up there)\n",
        "    mu = Kstar @ Kinv @ y_data\n",
        "    sigma = kernel(x_new,x_new,sigma_kernel,l,sigma_noise) - Kstar @ Kinv @ Kstar.T\n",
        "    print(mu)\n",
        "    print(sigma)\n",
        "    return mu, sigma[0]\n",
        "\n"
      ]
    },
    {
      "cell_type": "code",
      "execution_count": 28,
      "metadata": {
        "ExecuteTime": {
          "end_time": "2019-10-21T13:30:19.432718Z",
          "start_time": "2019-10-21T13:30:19.095143Z"
        },
        "id": "M0pxEoYqx3J0",
        "outputId": "e8a52c64-5b48-46c4-c5b2-c06faf954e87",
        "colab": {
          "base_uri": "https://localhost:8080/",
          "height": 1000
        }
      },
      "outputs": [
        {
          "output_type": "stream",
          "name": "stderr",
          "text": [
            "<>:10: SyntaxWarning: invalid escape sequence '\\,'\n",
            "<>:10: SyntaxWarning: invalid escape sequence '\\,'\n",
            "/tmp/ipython-input-2436244248.py:10: SyntaxWarning: invalid escape sequence '\\,'\n",
            "  plt.plot(x, func(x), 'r:', label=u'$f(x) = x\\,\\sin(x)$')\n",
            "/tmp/ipython-input-2217804566.py:22: DeprecationWarning: Conversion of an array with ndim > 0 to a scalar is deprecated, and will error in future. Ensure you extract a single element from your array before performing this operation. (Deprecated NumPy 1.25.)\n",
            "  Kstar[0,i] = kernel(x_data[i], x_new, sigma_kernel, l, sigma_noise)\n",
            "/tmp/ipython-input-2436244248.py:7: DeprecationWarning: Conversion of an array with ndim > 0 to a scalar is deprecated, and will error in future. Ensure you extract a single element from your array before performing this operation. (Deprecated NumPy 1.25.)\n",
            "  y[i], sigma[i] = GPpredict(x[i].reshape(-1,1), X, Y, Kinv)\n"
          ]
        },
        {
          "output_type": "stream",
          "name": "stdout",
          "text": [
            "[-4.96382623]\n",
            "[[5.55111512e-17]]\n",
            "[-0.51405391]\n",
            "[[0.33635361]]\n",
            "[-0.35062486]\n",
            "[[0.3383036]]\n",
            "[-0.18531785]\n",
            "[[0.33952615]]\n",
            "[-0.0759489]\n",
            "[[0.33992051]]\n",
            "[-0.02440074]\n",
            "[[0.33999151]]\n",
            "[-0.00722209]\n",
            "[[0.33999151]]\n",
            "[-0.00522844]\n",
            "[[0.33992051]]\n",
            "[-0.01017912]\n",
            "[[0.33952615]]\n",
            "[-0.01896393]\n",
            "[[0.3383036]]\n",
            "[-0.027777]\n",
            "[[0.33635361]]\n",
            "[-0.26820512]\n",
            "[[5.55111512e-17]]\n",
            "[-0.02777485]\n",
            "[[0.33635361]]\n",
            "[-0.01893956]\n",
            "[[0.3383036]]\n",
            "[-0.00996613]\n",
            "[[0.33952615]]\n",
            "[-0.00378562]\n",
            "[[0.33992051]]\n",
            "[0.00035091]\n",
            "[[0.33999151]]\n",
            "[0.00639901]\n",
            "[[0.33999151]]\n",
            "[0.02111297]\n",
            "[[0.33992051]]\n",
            "[0.05169507]\n",
            "[[0.33952615]]\n",
            "[0.0978285]\n",
            "[[0.3383036]]\n",
            "[0.14342895]\n",
            "[[0.33635361]]\n",
            "[1.38498505]\n",
            "[[5.55111512e-17]]\n",
            "[0.14342897]\n",
            "[[0.33635361]]\n",
            "[0.09782866]\n",
            "[[0.3383036]]\n",
            "[0.05169652]\n",
            "[[0.33952615]]\n",
            "[0.0211228]\n",
            "[[0.33992051]]\n",
            "[0.00645062]\n",
            "[[0.33999151]]\n",
            "[0.00056082]\n",
            "[[0.33999151]]\n",
            "[-0.0031241]\n",
            "[[0.33992051]]\n",
            "[-0.00835077]\n",
            "[[0.33952615]]\n",
            "[-0.01588314]\n",
            "[[0.3383036]]\n",
            "[-0.02329378]\n",
            "[[0.33635361]]\n",
            "[-0.22493483]\n",
            "[[5.55111512e-17]]\n",
            "[-0.02329382]\n",
            "[[0.33635361]]\n",
            "[-0.01588359]\n",
            "[[0.3383036]]\n",
            "[-0.00835473]\n",
            "[[0.33952615]]\n",
            "[-0.00315091]\n",
            "[[0.33992051]]\n",
            "[0.00042011]\n",
            "[[0.33999151]]\n",
            "[0.00587833]\n",
            "[[0.33999151]]\n",
            "[0.0193193]\n",
            "[[0.33992051]]\n",
            "[0.04729258]\n",
            "[[0.33952615]]\n",
            "[0.08949595]\n",
            "[[0.3383036]]\n",
            "[0.13121228]\n",
            "[[0.33635361]]\n",
            "[1.2670178]\n",
            "[[5.55111512e-17]]\n",
            "[0.13121205]\n",
            "[[0.33635361]]\n",
            "[0.08949335]\n",
            "[[0.3383036]]\n",
            "[0.04726983]\n",
            "[[0.33952615]]\n",
            "[0.01916516]\n",
            "[[0.33992051]]\n",
            "[0.00506931]\n",
            "[[0.33999151]]\n",
            "[-0.00287023]\n",
            "[[0.33999151]]\n",
            "[-0.01352002]\n",
            "[[0.33992051]]\n",
            "[-0.0336748]\n",
            "[[0.33952615]]\n",
            "[-0.06379183]\n",
            "[[0.3383036]]\n",
            "[-0.09353267]\n",
            "[[0.33635361]]\n",
            "[-0.90317793]\n",
            "[[5.55111512e-17]]\n",
            "[-0.09353468]\n",
            "[[0.33635361]]\n",
            "[-0.0638146]\n",
            "[[0.3383036]]\n",
            "[-0.03387389]\n",
            "[[0.33952615]]\n",
            "[-0.0148686]\n",
            "[[0.33992051]]\n",
            "[-0.00994863]\n",
            "[[0.33999151]]\n",
            "[-0.0237189]\n",
            "[[0.33999151]]\n",
            "[-0.07155756]\n",
            "[[0.33992051]]\n",
            "[-0.1742637]\n",
            "[[0.33952615]]\n",
            "[-0.32967137]\n",
            "[[0.3383036]]\n",
            "[-0.48333038]\n",
            "[[0.33635361]]\n",
            "[-4.66715037]\n",
            "[[5.55111512e-17]]\n",
            "[-0.48332913]\n",
            "[[0.33635361]]\n",
            "[-0.32965719]\n",
            "[[0.3383036]]\n",
            "[-0.17413978]\n",
            "[[0.33952615]]\n",
            "[-0.07071819]\n",
            "[[0.33992051]]\n",
            "[-0.0193132]\n",
            "[[0.33999151]]\n",
            "[0.00796956]\n",
            "[[0.33999151]]\n",
            "[0.04159851]\n",
            "[[0.33992051]]\n",
            "[0.10401174]\n",
            "[[0.33952615]]\n",
            "[0.19707949]\n",
            "[[0.3383036]]\n",
            "[0.2889653]\n",
            "[[0.33635361]]\n",
            "[2.79033308]\n",
            "[[5.55111512e-17]]\n",
            "[0.28896953]\n",
            "[[0.33635361]]\n",
            "[0.19712742]\n",
            "[[0.3383036]]\n",
            "[0.10443072]\n",
            "[[0.33952615]]\n",
            "[0.04443664]\n",
            "[[0.33992051]]\n",
            "[0.02286625]\n",
            "[[0.33999151]]\n",
            "[0.04127237]\n",
            "[[0.33999151]]\n",
            "[0.12021027]\n",
            "[[0.33992051]]\n",
            "[0.29208358]\n",
            "[[0.33952615]]\n",
            "[0.55248642]\n",
            "[[0.3383036]]\n",
            "[0.80999223]\n",
            "[[0.33635361]]\n",
            "[7.82146893]\n",
            "[[5.55111512e-17]]\n",
            "[0.80998953]\n",
            "[[0.33635361]]\n",
            "[0.55245586]\n",
            "[[0.3383036]]\n",
            "[0.29181641]\n",
            "[[0.33952615]]\n",
            "[0.11840048]\n",
            "[[0.33992051]]\n",
            "[0.03177319]\n",
            "[[0.33999151]]\n",
            "[-0.01576737]\n",
            "[[0.33999151]]\n",
            "[-0.07731277]\n",
            "[[0.33992051]]\n",
            "[-0.19286609]\n",
            "[[0.33952615]]\n",
            "[-0.36538939]\n",
            "[[0.3383036]]\n",
            "[-0.53574312]\n",
            "[[0.33635361]]\n",
            "[-5.17328882]\n",
            "[[5.55111512e-17]]\n"
          ]
        },
        {
          "output_type": "display_data",
          "data": {
            "text/plain": [
              "<Figure size 640x640 with 1 Axes>"
            ],
            "image/png": "[encoded data removed]"
          },
          "metadata": {}
        }
      ],
      "source": [
        "Kinv = np.linalg.inv(compute_K(X,sigma_kernel,l,sigma_noise))\n",
        "\n",
        "x = np.linspace(-5,10,100)\n",
        "y = np.zeros(x.shape)\n",
        "sigma = np.zeros(x.shape)\n",
        "for i in range(x.shape[0]):\n",
        "    y[i], sigma[i] = GPpredict(x[i].reshape(-1,1), X, Y, Kinv)\n",
        "\n",
        "fig=plt.figure(figsize=(8,8), dpi= 80, facecolor='w', edgecolor='k')\n",
        "plt.plot(x, func(x), 'r:', label=u'$f(x) = x\\,\\sin(x)$')\n",
        "plt.plot(X, Y, 'r.', markersize=10, label=u'Observations')\n",
        "plt.plot(x, y, 'b-', label=u'Prediction')\n",
        "plt.fill(np.concatenate([x, x[::-1]]),\n",
        "         np.concatenate([y - 1.9600 * sigma,\n",
        "                        (y + 1.9600 * sigma)[::-1]]),\n",
        "         alpha=.5, fc='b', ec='None', label='95% confidence interval')\n",
        "plt.xlabel('$x$')\n",
        "plt.ylabel('$f(x)$')\n",
        "plt.ylim(-6, 10)\n",
        "plt.legend(loc='upper left');"
      ]
    },
    {
      "cell_type": "markdown",
      "metadata": {
        "id": "MEMdCV9ox3J0"
      },
      "source": [
        "That's quite disappointing. Indeed, the (blue) learned curve goes through the data points but it is far from the (red) original function. An interesting feature however is that the uncertainty reduces almost to zero around the data points and strongly increases elsewhere.\n",
        "\n",
        "What happened? It seems we made a poor arbitrary choice of kernel parameters. For instance taking $l=0.3$ implies that values $y$ and $y'$ for two points $x$ and $x'$ quickly tend to be independent and so the \"influence\" of a data point (a red point) does not extend far.\n",
        "\n",
        "Let's re-run this experiment with other parameters."
      ]
    },
    {
      "cell_type": "code",
      "execution_count": 29,
      "metadata": {
        "ExecuteTime": {
          "end_time": "2019-10-21T13:34:12.893293Z",
          "start_time": "2019-10-21T13:34:12.633219Z"
        },
        "scrolled": false,
        "id": "2F1QQa3Qx3J0",
        "outputId": "411ab3ef-0a90-415b-be65-34386995a660",
        "colab": {
          "base_uri": "https://localhost:8080/",
          "height": 702
        }
      },
      "outputs": [
        {
          "output_type": "stream",
          "name": "stderr",
          "text": [
            "<>:22: SyntaxWarning: invalid escape sequence '\\,'\n",
            "<>:22: SyntaxWarning: invalid escape sequence '\\,'\n",
            "/tmp/ipython-input-4241231984.py:22: SyntaxWarning: invalid escape sequence '\\,'\n",
            "  plt.plot(x, func(x), 'r:', label=u'$f(x) = x\\,\\sin(x)$')\n",
            "/tmp/ipython-input-4241231984.py:19: DeprecationWarning: Conversion of an array with ndim > 0 to a scalar is deprecated, and will error in future. Ensure you extract a single element from your array before performing this operation. (Deprecated NumPy 1.25.)\n",
            "  y[i], sigma[i] = GPpredict(x[i], X, Y, Kinv)\n"
          ]
        },
        {
          "output_type": "display_data",
          "data": {
            "text/plain": [
              "<Figure size 640x640 with 1 Axes>"
            ],
            "image/png": "[encoded data removed]"
          },
          "metadata": {}
        }
      ],
      "source": [
        "sigma_kernel = 3\n",
        "l=1\n",
        "\n",
        "Kinv = np.linalg.inv(compute_K(X,sigma_kernel,l,sigma_noise))\n",
        "\n",
        "def GPpredict(x_new, x_data, y_data, Kinv):\n",
        "    N = y_data.shape[0]\n",
        "    Kstar = np.zeros((1,N))\n",
        "    for i in range(N):\n",
        "        Kstar[0,i] = kernel(x_data[i], x_new, sigma_kernel, l, sigma_noise)\n",
        "    mu = Kstar @ Kinv @ y_data\n",
        "    sigma = kernel(x_new,x_new,sigma_kernel,l,sigma_noise) - Kstar @ Kinv @ Kstar.T\n",
        "    return mu, sigma\n",
        "\n",
        "x = np.linspace(-5,10,100)\n",
        "y = np.zeros(x.shape)\n",
        "sigma = np.zeros(x.shape)\n",
        "for i in range(x.shape[0]):\n",
        "    y[i], sigma[i] = GPpredict(x[i], X, Y, Kinv)\n",
        "\n",
        "fig=plt.figure(figsize=(8,8), dpi= 80, facecolor='w', edgecolor='k')\n",
        "plt.plot(x, func(x), 'r:', label=u'$f(x) = x\\,\\sin(x)$')\n",
        "plt.plot(X, Y, 'r.', markersize=10, label=u'Observations')\n",
        "plt.plot(x, y, 'b-', label=u'Prediction')\n",
        "plt.fill(np.concatenate([x, x[::-1]]),\n",
        "         np.concatenate([y - 1.9600 * sigma,\n",
        "                        (y + 1.9600 * sigma)[::-1]]),\n",
        "         alpha=.5, fc='b', ec='None', label='95% confidence interval')\n",
        "plt.xlabel('$x$')\n",
        "plt.ylabel('$f(x)$')\n",
        "plt.ylim(-6, 10)\n",
        "plt.legend(loc='upper left');"
      ]
    },
    {
      "cell_type": "markdown",
      "metadata": {
        "id": "7WIW313Rx3J1"
      },
      "source": [
        "This starts to look better. The blue curve fits the data points better but it's still not perfect and the uncertainty between data points is actually quite large.\n"
      ]
    },
    {
      "cell_type": "markdown",
      "metadata": {
        "id": "D-Ji0Vhzx3J1"
      },
      "source": [
        "<div class=\"alert alert-warning\">\n",
        "    \n",
        "**Exercice:**<br>\n",
        "Test several values of $[l, \\sigma_f]$ with $l$ being geometrically the length-scale (of oscillations) and  $\\sigma_f$ the amplitude. Compare the square exponential and quadratic kernels and conclude.\n",
        "</div>"
      ]
    },
    {
      "cell_type": "markdown",
      "metadata": {
        "id": "M69iT5XJx3J1"
      },
      "source": [
        "\n",
        "We could wish for an automated way of tuning these kernel parameters. Let's call them $\\theta$.\n",
        "\n",
        "One way to do that is to search for the value of $\\theta$ that maximizes the probability of the observed $\\mathbf{y}$ given the inputs $\\mathbf{x}$. In other words, to find the best $\\theta$, we search for the one that explains best the data that we already know, and then use it to make predictions on new points. That is called **Marginal Likelihood Maximization**.\n",
        "$$\\max_\\theta \\mathbb{P}(\\mathbf{y}|\\mathbf{x})$$\n",
        "\n",
        "Fortunately for use, scikit-learn includes all these operations in a single procedure."
      ]
    },
    {
      "cell_type": "code",
      "execution_count": 30,
      "metadata": {
        "ExecuteTime": {
          "end_time": "2019-10-21T13:40:11.441931Z",
          "start_time": "2019-10-21T13:40:11.029020Z"
        },
        "id": "Ye16uh4Px3J1",
        "outputId": "a8afb1bb-b7a6-4b23-d876-2e57bffee014",
        "colab": {
          "base_uri": "https://localhost:8080/",
          "height": 80
        }
      },
      "outputs": [
        {
          "output_type": "execute_result",
          "data": {
            "text/plain": [
              "GaussianProcessRegressor()"
            ],
            "text/html": [
              "<style>#sk-container-id-1 {\n",
              "  /* Definition of color scheme common for light and dark mode */\n",
              "  --sklearn-color-text: #000;\n",
              "  --sklearn-color-text-muted: #666;\n",
              "  --sklearn-color-line: gray;\n",
              "  /* Definition of color scheme for unfitted estimators */\n",
              "  --sklearn-color-unfitted-level-0: #fff5e6;\n",
              "  --sklearn-color-unfitted-level-1: #f6e4d2;\n",
              "  --sklearn-color-unfitted-level-2: #ffe0b3;\n",
              "  --sklearn-color-unfitted-level-3: chocolate;\n",
              "  /* Definition of color scheme for fitted estimators */\n",
              "  --sklearn-color-fitted-level-0: #f0f8ff;\n",
              "  --sklearn-color-fitted-level-1: #d4ebff;\n",
              "  --sklearn-color-fitted-level-2: #b3dbfd;\n",
              "  --sklearn-color-fitted-level-3: cornflowerblue;\n",
              "\n",
              "  /* Specific color for light theme */\n",
              "  --sklearn-color-text-on-default-background: var(--sg-text-color, var(--theme-code-foreground, var(--jp-content-font-color1, black)));\n",
              "  --sklearn-color-background: var(--sg-background-color, var(--theme-background, var(--jp-layout-color0, white)));\n",
              "  --sklearn-color-border-box: var(--sg-text-color, var(--theme-code-foreground, var(--jp-content-font-color1, black)));\n",
              "  --sklearn-color-icon: #696969;\n",
              "\n",
              "  @media (prefers-color-scheme: dark) {\n",
              "    /* Redefinition of color scheme for dark theme */\n",
              "    --sklearn-color-text-on-default-background: var(--sg-text-color, var(--theme-code-foreground, var(--jp-content-font-color1, white)));\n",
              "    --sklearn-color-background: var(--sg-background-color, var(--theme-background, var(--jp-layout-color0, #111)));\n",
              "    --sklearn-color-border-box: var(--sg-text-color, var(--theme-code-foreground, var(--jp-content-font-color1, white)));\n",
              "    --sklearn-color-icon: #878787;\n",
              "  }\n",
              "}\n",
              "\n",
              "#sk-container-id-1 {\n",
              "  color: var(--sklearn-color-text);\n",
              "}\n",
              "\n",
              "#sk-container-id-1 pre {\n",
              "  padding: 0;\n",
              "}\n",
              "\n",
              "#sk-container-id-1 input.sk-hidden--visually {\n",
              "  border: 0;\n",
              "  clip: rect(1px 1px 1px 1px);\n",
              "  clip: rect(1px, 1px, 1px, 1px);\n",
              "  height: 1px;\n",
              "  margin: -1px;\n",
              "  overflow: hidden;\n",
              "  padding: 0;\n",
              "  position: absolute;\n",
              "  width: 1px;\n",
              "}\n",
              "\n",
              "#sk-container-id-1 div.sk-dashed-wrapped {\n",
              "  border: 1px dashed var(--sklearn-color-line);\n",
              "  margin: 0 0.4em 0.5em 0.4em;\n",
              "  box-sizing: border-box;\n",
              "  padding-bottom: 0.4em;\n",
              "  background-color: var(--sklearn-color-background);\n",
              "}\n",
              "\n",
              "#sk-container-id-1 div.sk-container {\n",
              "  /* jupyter's `normalize.less` sets `[hidden] { display: none; }`\n",
              "     but bootstrap.min.css set `[hidden] { display: none !important; }`\n",
              "     so we also need the `!important` here to be able to override the\n",
              "     default hidden behavior on the sphinx rendered scikit-learn.org.\n",
              "     See: https://github.com/scikit-learn/scikit-learn/issues/21755 */\n",
              "  display: inline-block !important;\n",
              "  position: relative;\n",
              "}\n",
              "\n",
              "#sk-container-id-1 div.sk-text-repr-fallback {\n",
              "  display: none;\n",
              "}\n",
              "\n",
              "div.sk-parallel-item,\n",
              "div.sk-serial,\n",
              "div.sk-item {\n",
              "  /* draw centered vertical line to link estimators */\n",
              "  background-image: linear-gradient(var(--sklearn-color-text-on-default-background), var(--sklearn-color-text-on-default-background));\n",
              "  background-size: 2px 100%;\n",
              "  background-repeat: no-repeat;\n",
              "  background-position: center center;\n",
              "}\n",
              "\n",
              "/* Parallel-specific style estimator block */\n",
              "\n",
              "#sk-container-id-1 div.sk-parallel-item::after {\n",
              "  content: \"\";\n",
              "  width: 100%;\n",
              "  border-bottom: 2px solid var(--sklearn-color-text-on-default-background);\n",
              "  flex-grow: 1;\n",
              "}\n",
              "\n",
              "#sk-container-id-1 div.sk-parallel {\n",
              "  display: flex;\n",
              "  align-items: stretch;\n",
              "  justify-content: center;\n",
              "  background-color: var(--sklearn-color-background);\n",
              "  position: relative;\n",
              "}\n",
              "\n",
              "#sk-container-id-1 div.sk-parallel-item {\n",
              "  display: flex;\n",
              "  flex-direction: column;\n",
              "}\n",
              "\n",
              "#sk-container-id-1 div.sk-parallel-item:first-child::after {\n",
              "  align-self: flex-end;\n",
              "  width: 50%;\n",
              "}\n",
              "\n",
              "#sk-container-id-1 div.sk-parallel-item:last-child::after {\n",
              "  align-self: flex-start;\n",
              "  width: 50%;\n",
              "}\n",
              "\n",
              "#sk-container-id-1 div.sk-parallel-item:only-child::after {\n",
              "  width: 0;\n",
              "}\n",
              "\n",
              "/* Serial-specific style estimator block */\n",
              "\n",
              "#sk-container-id-1 div.sk-serial {\n",
              "  display: flex;\n",
              "  flex-direction: column;\n",
              "  align-items: center;\n",
              "  background-color: var(--sklearn-color-background);\n",
              "  padding-right: 1em;\n",
              "  padding-left: 1em;\n",
              "}\n",
              "\n",
              "\n",
              "/* Toggleable style: style used for estimator/Pipeline/ColumnTransformer box that is\n",
              "clickable and can be expanded/collapsed.\n",
              "- Pipeline and ColumnTransformer use this feature and define the default style\n",
              "- Estimators will overwrite some part of the style using the `sk-estimator` class\n",
              "*/\n",
              "\n",
              "/* Pipeline and ColumnTransformer style (default) */\n",
              "\n",
              "#sk-container-id-1 div.sk-toggleable {\n",
              "  /* Default theme specific background. It is overwritten whether we have a\n",
              "  specific estimator or a Pipeline/ColumnTransformer */\n",
              "  background-color: var(--sklearn-color-background);\n",
              "}\n",
              "\n",
              "/* Toggleable label */\n",
              "#sk-container-id-1 label.sk-toggleable__label {\n",
              "  cursor: pointer;\n",
              "  display: flex;\n",
              "  width: 100%;\n",
              "  margin-bottom: 0;\n",
              "  padding: 0.5em;\n",
              "  box-sizing: border-box;\n",
              "  text-align: center;\n",
              "  align-items: start;\n",
              "  justify-content: space-between;\n",
              "  gap: 0.5em;\n",
              "}\n",
              "\n",
              "#sk-container-id-1 label.sk-toggleable__label .caption {\n",
              "  font-size: 0.6rem;\n",
              "  font-weight: lighter;\n",
              "  color: var(--sklearn-color-text-muted);\n",
              "}\n",
              "\n",
              "#sk-container-id-1 label.sk-toggleable__label-arrow:before {\n",
              "  /* Arrow on the left of the label */\n",
              "  content: \"▸\";\n",
              "  float: left;\n",
              "  margin-right: 0.25em;\n",
              "  color: var(--sklearn-color-icon);\n",
              "}\n",
              "\n",
              "#sk-container-id-1 label.sk-toggleable__label-arrow:hover:before {\n",
              "  color: var(--sklearn-color-text);\n",
              "}\n",
              "\n",
              "/* Toggleable content - dropdown */\n",
              "\n",
              "#sk-container-id-1 div.sk-toggleable__content {\n",
              "  max-height: 0;\n",
              "  max-width: 0;\n",
              "  overflow: hidden;\n",
              "  text-align: left;\n",
              "  /* unfitted */\n",
              "  background-color: var(--sklearn-color-unfitted-level-0);\n",
              "}\n",
              "\n",
              "#sk-container-id-1 div.sk-toggleable__content.fitted {\n",
              "  /* fitted */\n",
              "  background-color: var(--sklearn-color-fitted-level-0);\n",
              "}\n",
              "\n",
              "#sk-container-id-1 div.sk-toggleable__content pre {\n",
              "  margin: 0.2em;\n",
              "  border-radius: 0.25em;\n",
              "  color: var(--sklearn-color-text);\n",
              "  /* unfitted */\n",
              "  background-color: var(--sklearn-color-unfitted-level-0);\n",
              "}\n",
              "\n",
              "#sk-container-id-1 div.sk-toggleable__content.fitted pre {\n",
              "  /* unfitted */\n",
              "  background-color: var(--sklearn-color-fitted-level-0);\n",
              "}\n",
              "\n",
              "#sk-container-id-1 input.sk-toggleable__control:checked~div.sk-toggleable__content {\n",
              "  /* Expand drop-down */\n",
              "  max-height: 200px;\n",
              "  max-width: 100%;\n",
              "  overflow: auto;\n",
              "}\n",
              "\n",
              "#sk-container-id-1 input.sk-toggleable__control:checked~label.sk-toggleable__label-arrow:before {\n",
              "  content: \"▾\";\n",
              "}\n",
              "\n",
              "/* Pipeline/ColumnTransformer-specific style */\n",
              "\n",
              "#sk-container-id-1 div.sk-label input.sk-toggleable__control:checked~label.sk-toggleable__label {\n",
              "  color: var(--sklearn-color-text);\n",
              "  background-color: var(--sklearn-color-unfitted-level-2);\n",
              "}\n",
              "\n",
              "#sk-container-id-1 div.sk-label.fitted input.sk-toggleable__control:checked~label.sk-toggleable__label {\n",
              "  background-color: var(--sklearn-color-fitted-level-2);\n",
              "}\n",
              "\n",
              "/* Estimator-specific style */\n",
              "\n",
              "/* Colorize estimator box */\n",
              "#sk-container-id-1 div.sk-estimator input.sk-toggleable__control:checked~label.sk-toggleable__label {\n",
              "  /* unfitted */\n",
              "  background-color: var(--sklearn-color-unfitted-level-2);\n",
              "}\n",
              "\n",
              "#sk-container-id-1 div.sk-estimator.fitted input.sk-toggleable__control:checked~label.sk-toggleable__label {\n",
              "  /* fitted */\n",
              "  background-color: var(--sklearn-color-fitted-level-2);\n",
              "}\n",
              "\n",
              "#sk-container-id-1 div.sk-label label.sk-toggleable__label,\n",
              "#sk-container-id-1 div.sk-label label {\n",
              "  /* The background is the default theme color */\n",
              "  color: var(--sklearn-color-text-on-default-background);\n",
              "}\n",
              "\n",
              "/* On hover, darken the color of the background */\n",
              "#sk-container-id-1 div.sk-label:hover label.sk-toggleable__label {\n",
              "  color: var(--sklearn-color-text);\n",
              "  background-color: var(--sklearn-color-unfitted-level-2);\n",
              "}\n",
              "\n",
              "/* Label box, darken color on hover, fitted */\n",
              "#sk-container-id-1 div.sk-label.fitted:hover label.sk-toggleable__label.fitted {\n",
              "  color: var(--sklearn-color-text);\n",
              "  background-color: var(--sklearn-color-fitted-level-2);\n",
              "}\n",
              "\n",
              "/* Estimator label */\n",
              "\n",
              "#sk-container-id-1 div.sk-label label {\n",
              "  font-family: monospace;\n",
              "  font-weight: bold;\n",
              "  display: inline-block;\n",
              "  line-height: 1.2em;\n",
              "}\n",
              "\n",
              "#sk-container-id-1 div.sk-label-container {\n",
              "  text-align: center;\n",
              "}\n",
              "\n",
              "/* Estimator-specific */\n",
              "#sk-container-id-1 div.sk-estimator {\n",
              "  font-family: monospace;\n",
              "  border: 1px dotted var(--sklearn-color-border-box);\n",
              "  border-radius: 0.25em;\n",
              "  box-sizing: border-box;\n",
              "  margin-bottom: 0.5em;\n",
              "  /* unfitted */\n",
              "  background-color: var(--sklearn-color-unfitted-level-0);\n",
              "}\n",
              "\n",
              "#sk-container-id-1 div.sk-estimator.fitted {\n",
              "  /* fitted */\n",
              "  background-color: var(--sklearn-color-fitted-level-0);\n",
              "}\n",
              "\n",
              "/* on hover */\n",
              "#sk-container-id-1 div.sk-estimator:hover {\n",
              "  /* unfitted */\n",
              "  background-color: var(--sklearn-color-unfitted-level-2);\n",
              "}\n",
              "\n",
              "#sk-container-id-1 div.sk-estimator.fitted:hover {\n",
              "  /* fitted */\n",
              "  background-color: var(--sklearn-color-fitted-level-2);\n",
              "}\n",
              "\n",
              "/* Specification for estimator info (e.g. \"i\" and \"?\") */\n",
              "\n",
              "/* Common style for \"i\" and \"?\" */\n",
              "\n",
              ".sk-estimator-doc-link,\n",
              "a:link.sk-estimator-doc-link,\n",
              "a:visited.sk-estimator-doc-link {\n",
              "  float: right;\n",
              "  font-size: smaller;\n",
              "  line-height: 1em;\n",
              "  font-family: monospace;\n",
              "  background-color: var(--sklearn-color-background);\n",
              "  border-radius: 1em;\n",
              "  height: 1em;\n",
              "  width: 1em;\n",
              "  text-decoration: none !important;\n",
              "  margin-left: 0.5em;\n",
              "  text-align: center;\n",
              "  /* unfitted */\n",
              "  border: var(--sklearn-color-unfitted-level-1) 1pt solid;\n",
              "  color: var(--sklearn-color-unfitted-level-1);\n",
              "}\n",
              "\n",
              ".sk-estimator-doc-link.fitted,\n",
              "a:link.sk-estimator-doc-link.fitted,\n",
              "a:visited.sk-estimator-doc-link.fitted {\n",
              "  /* fitted */\n",
              "  border: var(--sklearn-color-fitted-level-1) 1pt solid;\n",
              "  color: var(--sklearn-color-fitted-level-1);\n",
              "}\n",
              "\n",
              "/* On hover */\n",
              "div.sk-estimator:hover .sk-estimator-doc-link:hover,\n",
              ".sk-estimator-doc-link:hover,\n",
              "div.sk-label-container:hover .sk-estimator-doc-link:hover,\n",
              ".sk-estimator-doc-link:hover {\n",
              "  /* unfitted */\n",
              "  background-color: var(--sklearn-color-unfitted-level-3);\n",
              "  color: var(--sklearn-color-background);\n",
              "  text-decoration: none;\n",
              "}\n",
              "\n",
              "div.sk-estimator.fitted:hover .sk-estimator-doc-link.fitted:hover,\n",
              ".sk-estimator-doc-link.fitted:hover,\n",
              "div.sk-label-container:hover .sk-estimator-doc-link.fitted:hover,\n",
              ".sk-estimator-doc-link.fitted:hover {\n",
              "  /* fitted */\n",
              "  background-color: var(--sklearn-color-fitted-level-3);\n",
              "  color: var(--sklearn-color-background);\n",
              "  text-decoration: none;\n",
              "}\n",
              "\n",
              "/* Span, style for the box shown on hovering the info icon */\n",
              ".sk-estimator-doc-link span {\n",
              "  display: none;\n",
              "  z-index: 9999;\n",
              "  position: relative;\n",
              "  font-weight: normal;\n",
              "  right: .2ex;\n",
              "  padding: .5ex;\n",
              "  margin: .5ex;\n",
              "  width: min-content;\n",
              "  min-width: 20ex;\n",
              "  max-width: 50ex;\n",
              "  color: var(--sklearn-color-text);\n",
              "  box-shadow: 2pt 2pt 4pt #999;\n",
              "  /* unfitted */\n",
              "  background: var(--sklearn-color-unfitted-level-0);\n",
              "  border: .5pt solid var(--sklearn-color-unfitted-level-3);\n",
              "}\n",
              "\n",
              ".sk-estimator-doc-link.fitted span {\n",
              "  /* fitted */\n",
              "  background: var(--sklearn-color-fitted-level-0);\n",
              "  border: var(--sklearn-color-fitted-level-3);\n",
              "}\n",
              "\n",
              ".sk-estimator-doc-link:hover span {\n",
              "  display: block;\n",
              "}\n",
              "\n",
              "/* \"?\"-specific style due to the `<a>` HTML tag */\n",
              "\n",
              "#sk-container-id-1 a.estimator_doc_link {\n",
              "  float: right;\n",
              "  font-size: 1rem;\n",
              "  line-height: 1em;\n",
              "  font-family: monospace;\n",
              "  background-color: var(--sklearn-color-background);\n",
              "  border-radius: 1rem;\n",
              "  height: 1rem;\n",
              "  width: 1rem;\n",
              "  text-decoration: none;\n",
              "  /* unfitted */\n",
              "  color: var(--sklearn-color-unfitted-level-1);\n",
              "  border: var(--sklearn-color-unfitted-level-1) 1pt solid;\n",
              "}\n",
              "\n",
              "#sk-container-id-1 a.estimator_doc_link.fitted {\n",
              "  /* fitted */\n",
              "  border: var(--sklearn-color-fitted-level-1) 1pt solid;\n",
              "  color: var(--sklearn-color-fitted-level-1);\n",
              "}\n",
              "\n",
              "/* On hover */\n",
              "#sk-container-id-1 a.estimator_doc_link:hover {\n",
              "  /* unfitted */\n",
              "  background-color: var(--sklearn-color-unfitted-level-3);\n",
              "  color: var(--sklearn-color-background);\n",
              "  text-decoration: none;\n",
              "}\n",
              "\n",
              "#sk-container-id-1 a.estimator_doc_link.fitted:hover {\n",
              "  /* fitted */\n",
              "  background-color: var(--sklearn-color-fitted-level-3);\n",
              "}\n",
              "</style><div id=\"sk-container-id-1\" class=\"sk-top-container\"><div class=\"sk-text-repr-fallback\"><pre>GaussianProcessRegressor()</pre><b>In a Jupyter environment, please rerun this cell to show the HTML representation or trust the notebook. <br />On GitHub, the HTML representation is unable to render, please try loading this page with nbviewer.org.</b></div><div class=\"sk-container\" hidden><div class=\"sk-item\"><div class=\"sk-estimator fitted sk-toggleable\"><input class=\"sk-toggleable__control sk-hidden--visually\" id=\"sk-estimator-id-1\" type=\"checkbox\" checked><label for=\"sk-estimator-id-1\" class=\"sk-toggleable__label fitted sk-toggleable__label-arrow\"><div><div>GaussianProcessRegressor</div></div><div><a class=\"sk-estimator-doc-link fitted\" rel=\"noreferrer\" target=\"_blank\" href=\"https://scikit-learn.org/1.6/modules/generated/sklearn.gaussian_process.GaussianProcessRegressor.html\">?<span>Documentation for GaussianProcessRegressor</span></a><span class=\"sk-estimator-doc-link fitted\">i<span>Fitted</span></span></div></label><div class=\"sk-toggleable__content fitted\"><pre>GaussianProcessRegressor()</pre></div> </div></div></div></div>"
            ]
          },
          "metadata": {},
          "execution_count": 30
        }
      ],
      "source": [
        "from sklearn.gaussian_process import GaussianProcessRegressor\n",
        "gp = GaussianProcessRegressor()\n",
        "X=X.reshape(-1,1)\n",
        "Y=Y.reshape(-1,1)\n",
        "gp.fit(X,Y)"
      ]
    },
    {
      "cell_type": "code",
      "execution_count": 32,
      "metadata": {
        "ExecuteTime": {
          "end_time": "2019-10-21T13:48:38.030257Z",
          "start_time": "2019-10-21T13:48:37.766260Z"
        },
        "id": "j_osGfu5x3J2",
        "outputId": "05b2031d-907b-46b1-c675-bb84fda17eb1",
        "colab": {
          "base_uri": "https://localhost:8080/",
          "height": 1000
        }
      },
      "outputs": [
        {
          "output_type": "stream",
          "name": "stderr",
          "text": [
            "<>:9: SyntaxWarning: invalid escape sequence '\\,'\n",
            "<>:9: SyntaxWarning: invalid escape sequence '\\,'\n",
            "/tmp/ipython-input-3457902021.py:9: SyntaxWarning: invalid escape sequence '\\,'\n",
            "  plt.plot(x, func(x), 'r:', label=u'$f(x) = x\\,\\sin(x)$')\n",
            "/tmp/ipython-input-3457902021.py:6: DeprecationWarning: Conversion of an array with ndim > 0 to a scalar is deprecated, and will error in future. Ensure you extract a single element from your array before performing this operation. (Deprecated NumPy 1.25.)\n",
            "  y[i], sigma[i] = gp.predict(x[i].reshape(-1,1), return_std=True)\n",
            "/tmp/ipython-input-3457902021.py:6: DeprecationWarning: Conversion of an array with ndim > 0 to a scalar is deprecated, and will error in future. Ensure you extract a single element from your array before performing this operation. (Deprecated NumPy 1.25.)\n",
            "  y[i], sigma[i] = gp.predict(x[i].reshape(-1,1), return_std=True)\n",
            "/tmp/ipython-input-3457902021.py:6: DeprecationWarning: Conversion of an array with ndim > 0 to a scalar is deprecated, and will error in future. Ensure you extract a single element from your array before performing this operation. (Deprecated NumPy 1.25.)\n",
            "  y[i], sigma[i] = gp.predict(x[i].reshape(-1,1), return_std=True)\n",
            "/tmp/ipython-input-3457902021.py:6: DeprecationWarning: Conversion of an array with ndim > 0 to a scalar is deprecated, and will error in future. Ensure you extract a single element from your array before performing this operation. (Deprecated NumPy 1.25.)\n",
            "  y[i], sigma[i] = gp.predict(x[i].reshape(-1,1), return_std=True)\n",
            "/tmp/ipython-input-3457902021.py:6: DeprecationWarning: Conversion of an array with ndim > 0 to a scalar is deprecated, and will error in future. Ensure you extract a single element from your array before performing this operation. (Deprecated NumPy 1.25.)\n",
            "  y[i], sigma[i] = gp.predict(x[i].reshape(-1,1), return_std=True)\n",
            "/tmp/ipython-input-3457902021.py:6: DeprecationWarning: Conversion of an array with ndim > 0 to a scalar is deprecated, and will error in future. Ensure you extract a single element from your array before performing this operation. (Deprecated NumPy 1.25.)\n",
            "  y[i], sigma[i] = gp.predict(x[i].reshape(-1,1), return_std=True)\n",
            "/tmp/ipython-input-3457902021.py:6: DeprecationWarning: Conversion of an array with ndim > 0 to a scalar is deprecated, and will error in future. Ensure you extract a single element from your array before performing this operation. (Deprecated NumPy 1.25.)\n",
            "  y[i], sigma[i] = gp.predict(x[i].reshape(-1,1), return_std=True)\n",
            "/tmp/ipython-input-3457902021.py:6: DeprecationWarning: Conversion of an array with ndim > 0 to a scalar is deprecated, and will error in future. Ensure you extract a single element from your array before performing this operation. (Deprecated NumPy 1.25.)\n",
            "  y[i], sigma[i] = gp.predict(x[i].reshape(-1,1), return_std=True)\n",
            "/tmp/ipython-input-3457902021.py:6: DeprecationWarning: Conversion of an array with ndim > 0 to a scalar is deprecated, and will error in future. Ensure you extract a single element from your array before performing this operation. (Deprecated NumPy 1.25.)\n",
            "  y[i], sigma[i] = gp.predict(x[i].reshape(-1,1), return_std=True)\n",
            "/tmp/ipython-input-3457902021.py:6: DeprecationWarning: Conversion of an array with ndim > 0 to a scalar is deprecated, and will error in future. Ensure you extract a single element from your array before performing this operation. (Deprecated NumPy 1.25.)\n",
            "  y[i], sigma[i] = gp.predict(x[i].reshape(-1,1), return_std=True)\n",
            "/tmp/ipython-input-3457902021.py:6: DeprecationWarning: Conversion of an array with ndim > 0 to a scalar is deprecated, and will error in future. Ensure you extract a single element from your array before performing this operation. (Deprecated NumPy 1.25.)\n",
            "  y[i], sigma[i] = gp.predict(x[i].reshape(-1,1), return_std=True)\n",
            "/tmp/ipython-input-3457902021.py:6: DeprecationWarning: Conversion of an array with ndim > 0 to a scalar is deprecated, and will error in future. Ensure you extract a single element from your array before performing this operation. (Deprecated NumPy 1.25.)\n",
            "  y[i], sigma[i] = gp.predict(x[i].reshape(-1,1), return_std=True)\n",
            "/tmp/ipython-input-3457902021.py:6: DeprecationWarning: Conversion of an array with ndim > 0 to a scalar is deprecated, and will error in future. Ensure you extract a single element from your array before performing this operation. (Deprecated NumPy 1.25.)\n",
            "  y[i], sigma[i] = gp.predict(x[i].reshape(-1,1), return_std=True)\n",
            "/tmp/ipython-input-3457902021.py:6: DeprecationWarning: Conversion of an array with ndim > 0 to a scalar is deprecated, and will error in future. Ensure you extract a single element from your array before performing this operation. (Deprecated NumPy 1.25.)\n",
            "  y[i], sigma[i] = gp.predict(x[i].reshape(-1,1), return_std=True)\n",
            "/tmp/ipython-input-3457902021.py:6: DeprecationWarning: Conversion of an array with ndim > 0 to a scalar is deprecated, and will error in future. Ensure you extract a single element from your array before performing this operation. (Deprecated NumPy 1.25.)\n",
            "  y[i], sigma[i] = gp.predict(x[i].reshape(-1,1), return_std=True)\n",
            "/tmp/ipython-input-3457902021.py:6: DeprecationWarning: Conversion of an array with ndim > 0 to a scalar is deprecated, and will error in future. Ensure you extract a single element from your array before performing this operation. (Deprecated NumPy 1.25.)\n",
            "  y[i], sigma[i] = gp.predict(x[i].reshape(-1,1), return_std=True)\n",
            "/tmp/ipython-input-3457902021.py:6: DeprecationWarning: Conversion of an array with ndim > 0 to a scalar is deprecated, and will error in future. Ensure you extract a single element from your array before performing this operation. (Deprecated NumPy 1.25.)\n",
            "  y[i], sigma[i] = gp.predict(x[i].reshape(-1,1), return_std=True)\n",
            "/tmp/ipython-input-3457902021.py:6: DeprecationWarning: Conversion of an array with ndim > 0 to a scalar is deprecated, and will error in future. Ensure you extract a single element from your array before performing this operation. (Deprecated NumPy 1.25.)\n",
            "  y[i], sigma[i] = gp.predict(x[i].reshape(-1,1), return_std=True)\n",
            "/tmp/ipython-input-3457902021.py:6: DeprecationWarning: Conversion of an array with ndim > 0 to a scalar is deprecated, and will error in future. Ensure you extract a single element from your array before performing this operation. (Deprecated NumPy 1.25.)\n",
            "  y[i], sigma[i] = gp.predict(x[i].reshape(-1,1), return_std=True)\n",
            "/tmp/ipython-input-3457902021.py:6: DeprecationWarning: Conversion of an array with ndim > 0 to a scalar is deprecated, and will error in future. Ensure you extract a single element from your array before performing this operation. (Deprecated NumPy 1.25.)\n",
            "  y[i], sigma[i] = gp.predict(x[i].reshape(-1,1), return_std=True)\n",
            "/tmp/ipython-input-3457902021.py:6: DeprecationWarning: Conversion of an array with ndim > 0 to a scalar is deprecated, and will error in future. Ensure you extract a single element from your array before performing this operation. (Deprecated NumPy 1.25.)\n",
            "  y[i], sigma[i] = gp.predict(x[i].reshape(-1,1), return_std=True)\n",
            "/tmp/ipython-input-3457902021.py:6: DeprecationWarning: Conversion of an array with ndim > 0 to a scalar is deprecated, and will error in future. Ensure you extract a single element from your array before performing this operation. (Deprecated NumPy 1.25.)\n",
            "  y[i], sigma[i] = gp.predict(x[i].reshape(-1,1), return_std=True)\n",
            "/tmp/ipython-input-3457902021.py:6: DeprecationWarning: Conversion of an array with ndim > 0 to a scalar is deprecated, and will error in future. Ensure you extract a single element from your array before performing this operation. (Deprecated NumPy 1.25.)\n",
            "  y[i], sigma[i] = gp.predict(x[i].reshape(-1,1), return_std=True)\n",
            "/tmp/ipython-input-3457902021.py:6: DeprecationWarning: Conversion of an array with ndim > 0 to a scalar is deprecated, and will error in future. Ensure you extract a single element from your array before performing this operation. (Deprecated NumPy 1.25.)\n",
            "  y[i], sigma[i] = gp.predict(x[i].reshape(-1,1), return_std=True)\n",
            "/tmp/ipython-input-3457902021.py:6: DeprecationWarning: Conversion of an array with ndim > 0 to a scalar is deprecated, and will error in future. Ensure you extract a single element from your array before performing this operation. (Deprecated NumPy 1.25.)\n",
            "  y[i], sigma[i] = gp.predict(x[i].reshape(-1,1), return_std=True)\n",
            "/tmp/ipython-input-3457902021.py:6: DeprecationWarning: Conversion of an array with ndim > 0 to a scalar is deprecated, and will error in future. Ensure you extract a single element from your array before performing this operation. (Deprecated NumPy 1.25.)\n",
            "  y[i], sigma[i] = gp.predict(x[i].reshape(-1,1), return_std=True)\n",
            "/tmp/ipython-input-3457902021.py:6: DeprecationWarning: Conversion of an array with ndim > 0 to a scalar is deprecated, and will error in future. Ensure you extract a single element from your array before performing this operation. (Deprecated NumPy 1.25.)\n",
            "  y[i], sigma[i] = gp.predict(x[i].reshape(-1,1), return_std=True)\n",
            "/tmp/ipython-input-3457902021.py:6: DeprecationWarning: Conversion of an array with ndim > 0 to a scalar is deprecated, and will error in future. Ensure you extract a single element from your array before performing this operation. (Deprecated NumPy 1.25.)\n",
            "  y[i], sigma[i] = gp.predict(x[i].reshape(-1,1), return_std=True)\n",
            "/tmp/ipython-input-3457902021.py:6: DeprecationWarning: Conversion of an array with ndim > 0 to a scalar is deprecated, and will error in future. Ensure you extract a single element from your array before performing this operation. (Deprecated NumPy 1.25.)\n",
            "  y[i], sigma[i] = gp.predict(x[i].reshape(-1,1), return_std=True)\n",
            "/tmp/ipython-input-3457902021.py:6: DeprecationWarning: Conversion of an array with ndim > 0 to a scalar is deprecated, and will error in future. Ensure you extract a single element from your array before performing this operation. (Deprecated NumPy 1.25.)\n",
            "  y[i], sigma[i] = gp.predict(x[i].reshape(-1,1), return_std=True)\n",
            "/tmp/ipython-input-3457902021.py:6: DeprecationWarning: Conversion of an array with ndim > 0 to a scalar is deprecated, and will error in future. Ensure you extract a single element from your array before performing this operation. (Deprecated NumPy 1.25.)\n",
            "  y[i], sigma[i] = gp.predict(x[i].reshape(-1,1), return_std=True)\n",
            "/tmp/ipython-input-3457902021.py:6: DeprecationWarning: Conversion of an array with ndim > 0 to a scalar is deprecated, and will error in future. Ensure you extract a single element from your array before performing this operation. (Deprecated NumPy 1.25.)\n",
            "  y[i], sigma[i] = gp.predict(x[i].reshape(-1,1), return_std=True)\n",
            "/tmp/ipython-input-3457902021.py:6: DeprecationWarning: Conversion of an array with ndim > 0 to a scalar is deprecated, and will error in future. Ensure you extract a single element from your array before performing this operation. (Deprecated NumPy 1.25.)\n",
            "  y[i], sigma[i] = gp.predict(x[i].reshape(-1,1), return_std=True)\n",
            "/tmp/ipython-input-3457902021.py:6: DeprecationWarning: Conversion of an array with ndim > 0 to a scalar is deprecated, and will error in future. Ensure you extract a single element from your array before performing this operation. (Deprecated NumPy 1.25.)\n",
            "  y[i], sigma[i] = gp.predict(x[i].reshape(-1,1), return_std=True)\n",
            "/tmp/ipython-input-3457902021.py:6: DeprecationWarning: Conversion of an array with ndim > 0 to a scalar is deprecated, and will error in future. Ensure you extract a single element from your array before performing this operation. (Deprecated NumPy 1.25.)\n",
            "  y[i], sigma[i] = gp.predict(x[i].reshape(-1,1), return_std=True)\n",
            "/tmp/ipython-input-3457902021.py:6: DeprecationWarning: Conversion of an array with ndim > 0 to a scalar is deprecated, and will error in future. Ensure you extract a single element from your array before performing this operation. (Deprecated NumPy 1.25.)\n",
            "  y[i], sigma[i] = gp.predict(x[i].reshape(-1,1), return_std=True)\n",
            "/tmp/ipython-input-3457902021.py:6: DeprecationWarning: Conversion of an array with ndim > 0 to a scalar is deprecated, and will error in future. Ensure you extract a single element from your array before performing this operation. (Deprecated NumPy 1.25.)\n",
            "  y[i], sigma[i] = gp.predict(x[i].reshape(-1,1), return_std=True)\n",
            "/tmp/ipython-input-3457902021.py:6: DeprecationWarning: Conversion of an array with ndim > 0 to a scalar is deprecated, and will error in future. Ensure you extract a single element from your array before performing this operation. (Deprecated NumPy 1.25.)\n",
            "  y[i], sigma[i] = gp.predict(x[i].reshape(-1,1), return_std=True)\n",
            "/tmp/ipython-input-3457902021.py:6: DeprecationWarning: Conversion of an array with ndim > 0 to a scalar is deprecated, and will error in future. Ensure you extract a single element from your array before performing this operation. (Deprecated NumPy 1.25.)\n",
            "  y[i], sigma[i] = gp.predict(x[i].reshape(-1,1), return_std=True)\n",
            "/tmp/ipython-input-3457902021.py:6: DeprecationWarning: Conversion of an array with ndim > 0 to a scalar is deprecated, and will error in future. Ensure you extract a single element from your array before performing this operation. (Deprecated NumPy 1.25.)\n",
            "  y[i], sigma[i] = gp.predict(x[i].reshape(-1,1), return_std=True)\n",
            "/tmp/ipython-input-3457902021.py:6: DeprecationWarning: Conversion of an array with ndim > 0 to a scalar is deprecated, and will error in future. Ensure you extract a single element from your array before performing this operation. (Deprecated NumPy 1.25.)\n",
            "  y[i], sigma[i] = gp.predict(x[i].reshape(-1,1), return_std=True)\n",
            "/tmp/ipython-input-3457902021.py:6: DeprecationWarning: Conversion of an array with ndim > 0 to a scalar is deprecated, and will error in future. Ensure you extract a single element from your array before performing this operation. (Deprecated NumPy 1.25.)\n",
            "  y[i], sigma[i] = gp.predict(x[i].reshape(-1,1), return_std=True)\n",
            "/tmp/ipython-input-3457902021.py:6: DeprecationWarning: Conversion of an array with ndim > 0 to a scalar is deprecated, and will error in future. Ensure you extract a single element from your array before performing this operation. (Deprecated NumPy 1.25.)\n",
            "  y[i], sigma[i] = gp.predict(x[i].reshape(-1,1), return_std=True)\n",
            "/tmp/ipython-input-3457902021.py:6: DeprecationWarning: Conversion of an array with ndim > 0 to a scalar is deprecated, and will error in future. Ensure you extract a single element from your array before performing this operation. (Deprecated NumPy 1.25.)\n",
            "  y[i], sigma[i] = gp.predict(x[i].reshape(-1,1), return_std=True)\n",
            "/tmp/ipython-input-3457902021.py:6: DeprecationWarning: Conversion of an array with ndim > 0 to a scalar is deprecated, and will error in future. Ensure you extract a single element from your array before performing this operation. (Deprecated NumPy 1.25.)\n",
            "  y[i], sigma[i] = gp.predict(x[i].reshape(-1,1), return_std=True)\n",
            "/tmp/ipython-input-3457902021.py:6: DeprecationWarning: Conversion of an array with ndim > 0 to a scalar is deprecated, and will error in future. Ensure you extract a single element from your array before performing this operation. (Deprecated NumPy 1.25.)\n",
            "  y[i], sigma[i] = gp.predict(x[i].reshape(-1,1), return_std=True)\n",
            "/tmp/ipython-input-3457902021.py:6: DeprecationWarning: Conversion of an array with ndim > 0 to a scalar is deprecated, and will error in future. Ensure you extract a single element from your array before performing this operation. (Deprecated NumPy 1.25.)\n",
            "  y[i], sigma[i] = gp.predict(x[i].reshape(-1,1), return_std=True)\n",
            "/tmp/ipython-input-3457902021.py:6: DeprecationWarning: Conversion of an array with ndim > 0 to a scalar is deprecated, and will error in future. Ensure you extract a single element from your array before performing this operation. (Deprecated NumPy 1.25.)\n",
            "  y[i], sigma[i] = gp.predict(x[i].reshape(-1,1), return_std=True)\n",
            "/tmp/ipython-input-3457902021.py:6: DeprecationWarning: Conversion of an array with ndim > 0 to a scalar is deprecated, and will error in future. Ensure you extract a single element from your array before performing this operation. (Deprecated NumPy 1.25.)\n",
            "  y[i], sigma[i] = gp.predict(x[i].reshape(-1,1), return_std=True)\n",
            "/tmp/ipython-input-3457902021.py:6: DeprecationWarning: Conversion of an array with ndim > 0 to a scalar is deprecated, and will error in future. Ensure you extract a single element from your array before performing this operation. (Deprecated NumPy 1.25.)\n",
            "  y[i], sigma[i] = gp.predict(x[i].reshape(-1,1), return_std=True)\n",
            "/tmp/ipython-input-3457902021.py:6: DeprecationWarning: Conversion of an array with ndim > 0 to a scalar is deprecated, and will error in future. Ensure you extract a single element from your array before performing this operation. (Deprecated NumPy 1.25.)\n",
            "  y[i], sigma[i] = gp.predict(x[i].reshape(-1,1), return_std=True)\n",
            "/tmp/ipython-input-3457902021.py:6: DeprecationWarning: Conversion of an array with ndim > 0 to a scalar is deprecated, and will error in future. Ensure you extract a single element from your array before performing this operation. (Deprecated NumPy 1.25.)\n",
            "  y[i], sigma[i] = gp.predict(x[i].reshape(-1,1), return_std=True)\n",
            "/tmp/ipython-input-3457902021.py:6: DeprecationWarning: Conversion of an array with ndim > 0 to a scalar is deprecated, and will error in future. Ensure you extract a single element from your array before performing this operation. (Deprecated NumPy 1.25.)\n",
            "  y[i], sigma[i] = gp.predict(x[i].reshape(-1,1), return_std=True)\n",
            "/tmp/ipython-input-3457902021.py:6: DeprecationWarning: Conversion of an array with ndim > 0 to a scalar is deprecated, and will error in future. Ensure you extract a single element from your array before performing this operation. (Deprecated NumPy 1.25.)\n",
            "  y[i], sigma[i] = gp.predict(x[i].reshape(-1,1), return_std=True)\n",
            "/tmp/ipython-input-3457902021.py:6: DeprecationWarning: Conversion of an array with ndim > 0 to a scalar is deprecated, and will error in future. Ensure you extract a single element from your array before performing this operation. (Deprecated NumPy 1.25.)\n",
            "  y[i], sigma[i] = gp.predict(x[i].reshape(-1,1), return_std=True)\n",
            "/tmp/ipython-input-3457902021.py:6: DeprecationWarning: Conversion of an array with ndim > 0 to a scalar is deprecated, and will error in future. Ensure you extract a single element from your array before performing this operation. (Deprecated NumPy 1.25.)\n",
            "  y[i], sigma[i] = gp.predict(x[i].reshape(-1,1), return_std=True)\n",
            "/tmp/ipython-input-3457902021.py:6: DeprecationWarning: Conversion of an array with ndim > 0 to a scalar is deprecated, and will error in future. Ensure you extract a single element from your array before performing this operation. (Deprecated NumPy 1.25.)\n",
            "  y[i], sigma[i] = gp.predict(x[i].reshape(-1,1), return_std=True)\n",
            "/tmp/ipython-input-3457902021.py:6: DeprecationWarning: Conversion of an array with ndim > 0 to a scalar is deprecated, and will error in future. Ensure you extract a single element from your array before performing this operation. (Deprecated NumPy 1.25.)\n",
            "  y[i], sigma[i] = gp.predict(x[i].reshape(-1,1), return_std=True)\n",
            "/tmp/ipython-input-3457902021.py:6: DeprecationWarning: Conversion of an array with ndim > 0 to a scalar is deprecated, and will error in future. Ensure you extract a single element from your array before performing this operation. (Deprecated NumPy 1.25.)\n",
            "  y[i], sigma[i] = gp.predict(x[i].reshape(-1,1), return_std=True)\n",
            "/tmp/ipython-input-3457902021.py:6: DeprecationWarning: Conversion of an array with ndim > 0 to a scalar is deprecated, and will error in future. Ensure you extract a single element from your array before performing this operation. (Deprecated NumPy 1.25.)\n",
            "  y[i], sigma[i] = gp.predict(x[i].reshape(-1,1), return_std=True)\n",
            "/tmp/ipython-input-3457902021.py:6: DeprecationWarning: Conversion of an array with ndim > 0 to a scalar is deprecated, and will error in future. Ensure you extract a single element from your array before performing this operation. (Deprecated NumPy 1.25.)\n",
            "  y[i], sigma[i] = gp.predict(x[i].reshape(-1,1), return_std=True)\n",
            "/tmp/ipython-input-3457902021.py:6: DeprecationWarning: Conversion of an array with ndim > 0 to a scalar is deprecated, and will error in future. Ensure you extract a single element from your array before performing this operation. (Deprecated NumPy 1.25.)\n",
            "  y[i], sigma[i] = gp.predict(x[i].reshape(-1,1), return_std=True)\n",
            "/tmp/ipython-input-3457902021.py:6: DeprecationWarning: Conversion of an array with ndim > 0 to a scalar is deprecated, and will error in future. Ensure you extract a single element from your array before performing this operation. (Deprecated NumPy 1.25.)\n",
            "  y[i], sigma[i] = gp.predict(x[i].reshape(-1,1), return_std=True)\n",
            "/tmp/ipython-input-3457902021.py:6: DeprecationWarning: Conversion of an array with ndim > 0 to a scalar is deprecated, and will error in future. Ensure you extract a single element from your array before performing this operation. (Deprecated NumPy 1.25.)\n",
            "  y[i], sigma[i] = gp.predict(x[i].reshape(-1,1), return_std=True)\n",
            "/tmp/ipython-input-3457902021.py:6: DeprecationWarning: Conversion of an array with ndim > 0 to a scalar is deprecated, and will error in future. Ensure you extract a single element from your array before performing this operation. (Deprecated NumPy 1.25.)\n",
            "  y[i], sigma[i] = gp.predict(x[i].reshape(-1,1), return_std=True)\n",
            "/tmp/ipython-input-3457902021.py:6: DeprecationWarning: Conversion of an array with ndim > 0 to a scalar is deprecated, and will error in future. Ensure you extract a single element from your array before performing this operation. (Deprecated NumPy 1.25.)\n",
            "  y[i], sigma[i] = gp.predict(x[i].reshape(-1,1), return_std=True)\n",
            "/tmp/ipython-input-3457902021.py:6: DeprecationWarning: Conversion of an array with ndim > 0 to a scalar is deprecated, and will error in future. Ensure you extract a single element from your array before performing this operation. (Deprecated NumPy 1.25.)\n",
            "  y[i], sigma[i] = gp.predict(x[i].reshape(-1,1), return_std=True)\n",
            "/tmp/ipython-input-3457902021.py:6: DeprecationWarning: Conversion of an array with ndim > 0 to a scalar is deprecated, and will error in future. Ensure you extract a single element from your array before performing this operation. (Deprecated NumPy 1.25.)\n",
            "  y[i], sigma[i] = gp.predict(x[i].reshape(-1,1), return_std=True)\n",
            "/tmp/ipython-input-3457902021.py:6: DeprecationWarning: Conversion of an array with ndim > 0 to a scalar is deprecated, and will error in future. Ensure you extract a single element from your array before performing this operation. (Deprecated NumPy 1.25.)\n",
            "  y[i], sigma[i] = gp.predict(x[i].reshape(-1,1), return_std=True)\n",
            "/tmp/ipython-input-3457902021.py:6: DeprecationWarning: Conversion of an array with ndim > 0 to a scalar is deprecated, and will error in future. Ensure you extract a single element from your array before performing this operation. (Deprecated NumPy 1.25.)\n",
            "  y[i], sigma[i] = gp.predict(x[i].reshape(-1,1), return_std=True)\n",
            "/tmp/ipython-input-3457902021.py:6: DeprecationWarning: Conversion of an array with ndim > 0 to a scalar is deprecated, and will error in future. Ensure you extract a single element from your array before performing this operation. (Deprecated NumPy 1.25.)\n",
            "  y[i], sigma[i] = gp.predict(x[i].reshape(-1,1), return_std=True)\n",
            "/tmp/ipython-input-3457902021.py:6: DeprecationWarning: Conversion of an array with ndim > 0 to a scalar is deprecated, and will error in future. Ensure you extract a single element from your array before performing this operation. (Deprecated NumPy 1.25.)\n",
            "  y[i], sigma[i] = gp.predict(x[i].reshape(-1,1), return_std=True)\n",
            "/tmp/ipython-input-3457902021.py:6: DeprecationWarning: Conversion of an array with ndim > 0 to a scalar is deprecated, and will error in future. Ensure you extract a single element from your array before performing this operation. (Deprecated NumPy 1.25.)\n",
            "  y[i], sigma[i] = gp.predict(x[i].reshape(-1,1), return_std=True)\n",
            "/tmp/ipython-input-3457902021.py:6: DeprecationWarning: Conversion of an array with ndim > 0 to a scalar is deprecated, and will error in future. Ensure you extract a single element from your array before performing this operation. (Deprecated NumPy 1.25.)\n",
            "  y[i], sigma[i] = gp.predict(x[i].reshape(-1,1), return_std=True)\n",
            "/tmp/ipython-input-3457902021.py:6: DeprecationWarning: Conversion of an array with ndim > 0 to a scalar is deprecated, and will error in future. Ensure you extract a single element from your array before performing this operation. (Deprecated NumPy 1.25.)\n",
            "  y[i], sigma[i] = gp.predict(x[i].reshape(-1,1), return_std=True)\n",
            "/tmp/ipython-input-3457902021.py:6: DeprecationWarning: Conversion of an array with ndim > 0 to a scalar is deprecated, and will error in future. Ensure you extract a single element from your array before performing this operation. (Deprecated NumPy 1.25.)\n",
            "  y[i], sigma[i] = gp.predict(x[i].reshape(-1,1), return_std=True)\n",
            "/tmp/ipython-input-3457902021.py:6: DeprecationWarning: Conversion of an array with ndim > 0 to a scalar is deprecated, and will error in future. Ensure you extract a single element from your array before performing this operation. (Deprecated NumPy 1.25.)\n",
            "  y[i], sigma[i] = gp.predict(x[i].reshape(-1,1), return_std=True)\n",
            "/tmp/ipython-input-3457902021.py:6: DeprecationWarning: Conversion of an array with ndim > 0 to a scalar is deprecated, and will error in future. Ensure you extract a single element from your array before performing this operation. (Deprecated NumPy 1.25.)\n",
            "  y[i], sigma[i] = gp.predict(x[i].reshape(-1,1), return_std=True)\n",
            "/tmp/ipython-input-3457902021.py:6: DeprecationWarning: Conversion of an array with ndim > 0 to a scalar is deprecated, and will error in future. Ensure you extract a single element from your array before performing this operation. (Deprecated NumPy 1.25.)\n",
            "  y[i], sigma[i] = gp.predict(x[i].reshape(-1,1), return_std=True)\n",
            "/tmp/ipython-input-3457902021.py:6: DeprecationWarning: Conversion of an array with ndim > 0 to a scalar is deprecated, and will error in future. Ensure you extract a single element from your array before performing this operation. (Deprecated NumPy 1.25.)\n",
            "  y[i], sigma[i] = gp.predict(x[i].reshape(-1,1), return_std=True)\n",
            "/tmp/ipython-input-3457902021.py:6: DeprecationWarning: Conversion of an array with ndim > 0 to a scalar is deprecated, and will error in future. Ensure you extract a single element from your array before performing this operation. (Deprecated NumPy 1.25.)\n",
            "  y[i], sigma[i] = gp.predict(x[i].reshape(-1,1), return_std=True)\n",
            "/tmp/ipython-input-3457902021.py:6: DeprecationWarning: Conversion of an array with ndim > 0 to a scalar is deprecated, and will error in future. Ensure you extract a single element from your array before performing this operation. (Deprecated NumPy 1.25.)\n",
            "  y[i], sigma[i] = gp.predict(x[i].reshape(-1,1), return_std=True)\n",
            "/tmp/ipython-input-3457902021.py:6: DeprecationWarning: Conversion of an array with ndim > 0 to a scalar is deprecated, and will error in future. Ensure you extract a single element from your array before performing this operation. (Deprecated NumPy 1.25.)\n",
            "  y[i], sigma[i] = gp.predict(x[i].reshape(-1,1), return_std=True)\n",
            "/tmp/ipython-input-3457902021.py:6: DeprecationWarning: Conversion of an array with ndim > 0 to a scalar is deprecated, and will error in future. Ensure you extract a single element from your array before performing this operation. (Deprecated NumPy 1.25.)\n",
            "  y[i], sigma[i] = gp.predict(x[i].reshape(-1,1), return_std=True)\n",
            "/tmp/ipython-input-3457902021.py:6: DeprecationWarning: Conversion of an array with ndim > 0 to a scalar is deprecated, and will error in future. Ensure you extract a single element from your array before performing this operation. (Deprecated NumPy 1.25.)\n",
            "  y[i], sigma[i] = gp.predict(x[i].reshape(-1,1), return_std=True)\n",
            "/tmp/ipython-input-3457902021.py:6: DeprecationWarning: Conversion of an array with ndim > 0 to a scalar is deprecated, and will error in future. Ensure you extract a single element from your array before performing this operation. (Deprecated NumPy 1.25.)\n",
            "  y[i], sigma[i] = gp.predict(x[i].reshape(-1,1), return_std=True)\n",
            "/tmp/ipython-input-3457902021.py:6: DeprecationWarning: Conversion of an array with ndim > 0 to a scalar is deprecated, and will error in future. Ensure you extract a single element from your array before performing this operation. (Deprecated NumPy 1.25.)\n",
            "  y[i], sigma[i] = gp.predict(x[i].reshape(-1,1), return_std=True)\n",
            "/tmp/ipython-input-3457902021.py:6: DeprecationWarning: Conversion of an array with ndim > 0 to a scalar is deprecated, and will error in future. Ensure you extract a single element from your array before performing this operation. (Deprecated NumPy 1.25.)\n",
            "  y[i], sigma[i] = gp.predict(x[i].reshape(-1,1), return_std=True)\n",
            "/tmp/ipython-input-3457902021.py:6: DeprecationWarning: Conversion of an array with ndim > 0 to a scalar is deprecated, and will error in future. Ensure you extract a single element from your array before performing this operation. (Deprecated NumPy 1.25.)\n",
            "  y[i], sigma[i] = gp.predict(x[i].reshape(-1,1), return_std=True)\n",
            "/tmp/ipython-input-3457902021.py:6: DeprecationWarning: Conversion of an array with ndim > 0 to a scalar is deprecated, and will error in future. Ensure you extract a single element from your array before performing this operation. (Deprecated NumPy 1.25.)\n",
            "  y[i], sigma[i] = gp.predict(x[i].reshape(-1,1), return_std=True)\n",
            "/tmp/ipython-input-3457902021.py:6: DeprecationWarning: Conversion of an array with ndim > 0 to a scalar is deprecated, and will error in future. Ensure you extract a single element from your array before performing this operation. (Deprecated NumPy 1.25.)\n",
            "  y[i], sigma[i] = gp.predict(x[i].reshape(-1,1), return_std=True)\n",
            "/tmp/ipython-input-3457902021.py:6: DeprecationWarning: Conversion of an array with ndim > 0 to a scalar is deprecated, and will error in future. Ensure you extract a single element from your array before performing this operation. (Deprecated NumPy 1.25.)\n",
            "  y[i], sigma[i] = gp.predict(x[i].reshape(-1,1), return_std=True)\n",
            "/tmp/ipython-input-3457902021.py:6: DeprecationWarning: Conversion of an array with ndim > 0 to a scalar is deprecated, and will error in future. Ensure you extract a single element from your array before performing this operation. (Deprecated NumPy 1.25.)\n",
            "  y[i], sigma[i] = gp.predict(x[i].reshape(-1,1), return_std=True)\n",
            "/tmp/ipython-input-3457902021.py:6: DeprecationWarning: Conversion of an array with ndim > 0 to a scalar is deprecated, and will error in future. Ensure you extract a single element from your array before performing this operation. (Deprecated NumPy 1.25.)\n",
            "  y[i], sigma[i] = gp.predict(x[i].reshape(-1,1), return_std=True)\n",
            "/tmp/ipython-input-3457902021.py:6: DeprecationWarning: Conversion of an array with ndim > 0 to a scalar is deprecated, and will error in future. Ensure you extract a single element from your array before performing this operation. (Deprecated NumPy 1.25.)\n",
            "  y[i], sigma[i] = gp.predict(x[i].reshape(-1,1), return_std=True)\n",
            "/tmp/ipython-input-3457902021.py:6: DeprecationWarning: Conversion of an array with ndim > 0 to a scalar is deprecated, and will error in future. Ensure you extract a single element from your array before performing this operation. (Deprecated NumPy 1.25.)\n",
            "  y[i], sigma[i] = gp.predict(x[i].reshape(-1,1), return_std=True)\n",
            "/tmp/ipython-input-3457902021.py:6: DeprecationWarning: Conversion of an array with ndim > 0 to a scalar is deprecated, and will error in future. Ensure you extract a single element from your array before performing this operation. (Deprecated NumPy 1.25.)\n",
            "  y[i], sigma[i] = gp.predict(x[i].reshape(-1,1), return_std=True)\n",
            "/tmp/ipython-input-3457902021.py:6: DeprecationWarning: Conversion of an array with ndim > 0 to a scalar is deprecated, and will error in future. Ensure you extract a single element from your array before performing this operation. (Deprecated NumPy 1.25.)\n",
            "  y[i], sigma[i] = gp.predict(x[i].reshape(-1,1), return_std=True)\n",
            "/tmp/ipython-input-3457902021.py:6: DeprecationWarning: Conversion of an array with ndim > 0 to a scalar is deprecated, and will error in future. Ensure you extract a single element from your array before performing this operation. (Deprecated NumPy 1.25.)\n",
            "  y[i], sigma[i] = gp.predict(x[i].reshape(-1,1), return_std=True)\n",
            "/tmp/ipython-input-3457902021.py:6: DeprecationWarning: Conversion of an array with ndim > 0 to a scalar is deprecated, and will error in future. Ensure you extract a single element from your array before performing this operation. (Deprecated NumPy 1.25.)\n",
            "  y[i], sigma[i] = gp.predict(x[i].reshape(-1,1), return_std=True)\n"
          ]
        },
        {
          "output_type": "stream",
          "name": "stdout",
          "text": [
            "[Hyperparameter(name='k1__constant_value', value_type='numeric', bounds='fixed', n_elements=1, fixed=True), Hyperparameter(name='k2__length_scale', value_type='numeric', bounds='fixed', n_elements=1, fixed=True)]\n",
            "{'alpha': 1e-10, 'copy_X_train': True, 'kernel': None, 'n_restarts_optimizer': 0, 'n_targets': None, 'normalize_y': False, 'optimizer': 'fmin_l_bfgs_b', 'random_state': None}\n"
          ]
        },
        {
          "output_type": "display_data",
          "data": {
            "text/plain": [
              "<Figure size 640x640 with 1 Axes>"
            ],
            "image/png": "[encoded data removed]"
          },
          "metadata": {}
        }
      ],
      "source": [
        "x = np.linspace(-5,10,100)\n",
        "#x = np.linspace(-25,40,100)\n",
        "y = np.zeros(x.shape)\n",
        "sigma = np.zeros(x.shape)\n",
        "for i in range(x.shape[0]):\n",
        "    y[i], sigma[i] = gp.predict(x[i].reshape(-1,1), return_std=True)\n",
        "\n",
        "fig=plt.figure(figsize=(8,8), dpi= 80, facecolor='w', edgecolor='k')\n",
        "plt.plot(x, func(x), 'r:', label=u'$f(x) = x\\,\\sin(x)$')\n",
        "plt.plot(X, Y, 'r.', markersize=10, label=u'Observations')\n",
        "plt.plot(x, y, 'b-', label=u'Prediction')\n",
        "plt.fill(np.concatenate([x, x[::-1]]),\n",
        "         np.concatenate([y - 1.9600 * sigma,\n",
        "                        (y + 1.9600 * sigma)[::-1]]),\n",
        "         alpha=.5, fc='b', ec='None', label='95% confidence interval')\n",
        "plt.xlabel('$x$')\n",
        "plt.ylabel('$f(x)$')\n",
        "plt.ylim(-6, 10)\n",
        "plt.legend(loc='upper left');\n",
        "print(gp.kernel_.hyperparameters)\n",
        "print(gp.get_params(deep=False))"
      ]
    },
    {
      "cell_type": "markdown",
      "metadata": {
        "id": "GH_dnJ8Ix3J2"
      },
      "source": [
        "Now that's better. Although the correct function was not found exactly, given the few data points we had it's already a good fit.\n",
        "\n",
        "Let's summarize a few properties of Gaussian Processes.\n",
        "\n",
        "<div class=\"alert alert-success\">\n",
        "<ul>\n",
        "<li> Gaussian processes are an offline method\n",
        "<li> They are an optimal method (in the sense of Bayesian inference)\n",
        "<li> They provide a best fit function, but also error bounds\n",
        "<li> Given $N$ data points, they require the inversion of an $N\\times N$ covariance matrix (complexity in $O(N^3)$)\n",
        "<li> The kernel encodes the prior knowledge about the function's behaviour.\n",
        "<li> Careful choice / design of kernels can make GPs a very powerful tool... but can also make them very unstable computationally.\n",
        "</ul>\n",
        "</div>\n",
        "\n",
        "Let's illustrate this last property on a final example, with a periodic function and the \"Exp-Sine-Squared\" kernel that is commonly used for periodic functions."
      ]
    },
    {
      "cell_type": "code",
      "execution_count": null,
      "metadata": {
        "ExecuteTime": {
          "end_time": "2019-10-21T13:56:08.661819Z",
          "start_time": "2019-10-21T13:56:08.076898Z"
        },
        "id": "IR5G9cu4x3J2"
      },
      "outputs": [],
      "source": [
        "from sklearn.gaussian_process.kernels import WhiteKernel, ExpSineSquared\n",
        "\n",
        "# Generate sample data\n",
        "rng = np.random.RandomState(0)\n",
        "X = 15 * rng.rand(100, 1)\n",
        "y = np.sin(X).ravel()\n",
        "y += 3 * (0.5 - rng.rand(X.shape[0]))  # add noise\n",
        "\n",
        "# GP training\n",
        "gp_kernel = ExpSineSquared(1.0, 5.0, periodicity_bounds=(1e-2, 1e1)) + WhiteKernel(1e-1)\n",
        "gpr = GaussianProcessRegressor(kernel=gp_kernel)\n",
        "#gpr = GaussianProcessRegressor()\n",
        "gpr.fit(X, y)\n",
        "\n",
        "# GP prediction\n",
        "X_plot = np.linspace(0, 25, 10000)[:, None]\n",
        "y_gpr, y_std = gpr.predict(X_plot, return_std=True)\n",
        "\n",
        "# Plot\n",
        "plt.figure(figsize=(8,8))\n",
        "lw = 2\n",
        "plt.scatter(X, y, c='k', label='data')\n",
        "plt.plot(X_plot, np.sin(X_plot), color='navy', lw=lw, label='True')\n",
        "plt.plot(X_plot, y_gpr, color='darkorange', lw=lw,\n",
        "         label='GPR (%s)' % gpr.kernel_)\n",
        "plt.fill_between(X_plot[:, 0], y_gpr - y_std, y_gpr + y_std, color='darkorange',\n",
        "                 alpha=0.2)\n",
        "plt.xlabel('data')\n",
        "plt.ylabel('target')\n",
        "plt.xlim(0, 25)\n",
        "plt.ylim(-4, 4)\n",
        "plt.legend(loc=\"best\",  scatterpoints=1, prop={'size': 8})\n",
        "plt.show()\n"
      ]
    },
    {
      "cell_type": "markdown",
      "metadata": {
        "id": "124quW9vx3J3"
      },
      "source": [
        "# <a id=\"sec3\"></a>3. Gaussian Processes for classification ?\n",
        "\n",
        "It actually works exactly the same way. For binary classification problems, Gaussian Processes try to predict the probability of belonging to the first class (thus turning back to a regression problem).\n",
        "\n",
        "More precisely, they try to build a hidden function $f(x)$ so that:\n",
        "$$\\mathbb{P}(Y=0|X=x) = \\frac{1}{1+e^{f(x)}}$$\n",
        "Where $f$ is a Gaussian Process."
      ]
    },
    {
      "cell_type": "markdown",
      "metadata": {
        "id": "V0U-UnNfx3J3"
      },
      "source": [
        "# <a id=\"sec4\"></a> 4. Examples\n",
        "\n",
        "## <a id=\"sec4-1\"></a> 4.1 Spam or ham?\n",
        "\n",
        "Let's illustrate that on the Ling-spam database."
      ]
    },
    {
      "cell_type": "code",
      "execution_count": null,
      "metadata": {
        "ExecuteTime": {
          "end_time": "2019-10-21T14:09:40.437397Z",
          "start_time": "2019-10-21T14:09:36.902587Z"
        },
        "id": "5kYfZ2Nhx3J3"
      },
      "outputs": [],
      "source": [
        "from sys import path\n",
        "path.append('../2 - Text data preprocessing')\n",
        "import load_spam\n",
        "spam_data = load_spam.spam_data_loader()\n",
        "spam_data.load_data()\n",
        "print(\"data loaded\")\n",
        "\n",
        "Xtrain, ytrain, Xtest, ytest = spam_data.split(2000)\n",
        "print(Xtrain.shape)\n",
        "print(Xtest.shape)"
      ]
    },
    {
      "cell_type": "markdown",
      "metadata": {
        "id": "qlg0h0ZNx3J3"
      },
      "source": [
        "We have loaded a training set with 2000 examples. This means that the Gaussian Process training will require inverting a $2000\\times2000$ matrix. Although this is still feasible in a few seconds or minutes, we are touching here a limitation of Gaussian Processes in their ability to scale up to large datasets.\n",
        "\n",
        "<div class=\"alert alert-warning\">\n",
        "    \n",
        "**Exercice:**<br>\n",
        "Use scikit-learn to fit a [Gaussian Process classifier](http://scikit-learn.org/stable/modules/gaussian_process.html#gaussian-process-classification-gpc) to the spam data loaded above. Estimate the generalization score.<br>\n",
        "Hint: you can use the `.toarray()` method of sparse matrices to get the corresponding dense matrix.\n",
        "</div>"
      ]
    },
    {
      "cell_type": "code",
      "execution_count": null,
      "metadata": {
        "ExecuteTime": {
          "end_time": "2019-10-21T14:11:07.546628Z",
          "start_time": "2019-10-21T14:10:10.768404Z"
        },
        "id": "mcrmtCJ4x3J3"
      },
      "outputs": [],
      "source": [
        "# %load solutions/code6.py\n",
        "### WRITE YOUR CODE HERE\n",
        "# If you get stuck, uncomment the line above to load a correction in this cell (then you can execute this code).\n"
      ]
    },
    {
      "cell_type": "markdown",
      "metadata": {
        "id": "cb2ZJe7Hx3J4"
      },
      "source": [
        "For a fair comparison, we can also try the training on the word count features rather than Tf-Idf ones. Although it would probably be more beneficial to search for a better kernel than the default squared exponential one.\n",
        "\n",
        "<div class=\"alert alert-warning\">\n",
        "    \n",
        "**Exercice:**<br>\n",
        "Use scikit-learn to fit a Gaussian Process classifier to the raw word count data loaded below. Estimate the generalization score.\n",
        "</div>"
      ]
    },
    {
      "cell_type": "code",
      "execution_count": null,
      "metadata": {
        "ExecuteTime": {
          "end_time": "2019-10-21T14:12:51.210593Z",
          "start_time": "2019-10-21T14:12:51.204740Z"
        },
        "id": "0OIS8C_Zx3J4"
      },
      "outputs": [],
      "source": [
        "Xtrain, ytrain, Xtest, ytest = spam_data.split(2000, feat='wordcount')"
      ]
    },
    {
      "cell_type": "code",
      "execution_count": null,
      "metadata": {
        "ExecuteTime": {
          "end_time": "2019-10-21T14:13:55.362716Z",
          "start_time": "2019-10-21T14:12:52.199856Z"
        },
        "id": "FdR79sRdx3J4"
      },
      "outputs": [],
      "source": [
        "# %load solutions/code7.py\n",
        "### WRITE YOUR CODE HERE\n",
        "# If you get stuck, uncomment the line above to load a correction in this cell (then you can execute this code).\n"
      ]
    },
    {
      "cell_type": "markdown",
      "metadata": {
        "id": "sME-9Wxex3J4"
      },
      "source": [
        "Let's keep this last classifier and identify which are the misclassified emails."
      ]
    },
    {
      "cell_type": "code",
      "execution_count": null,
      "metadata": {
        "code_folding": [],
        "id": "7yGQ881Fx3J9"
      },
      "outputs": [],
      "source": [
        "# Retrain\n",
        "Xtrain, ytrain, Xtest, ytest = spam_data.split(2000, feat='wordcount')\n",
        "spam_GP = GaussianProcessClassifier()\n",
        "spam_GP.fit(Xtrain.toarray(),ytrain)"
      ]
    },
    {
      "cell_type": "code",
      "execution_count": null,
      "metadata": {
        "ExecuteTime": {
          "end_time": "2019-10-21T14:15:29.874219Z",
          "start_time": "2019-10-21T14:15:13.010486Z"
        },
        "id": "GN-8V189x3J9"
      },
      "outputs": [],
      "source": [
        "# Find misclassified examples\n",
        "ypredict = spam_GP.predict(Xtest.toarray())\n",
        "misclass = np.not_equal(ypredict, ytest)\n",
        "Xmisclass = Xtest[misclass,:]\n",
        "ymisclass = ytest[misclass]\n",
        "misclass_indices = [i for i, j in enumerate(misclass) if j == True]\n",
        "print(\"Misclassified messages indices:\", misclass_indices)"
      ]
    },
    {
      "cell_type": "code",
      "execution_count": null,
      "metadata": {
        "ExecuteTime": {
          "end_time": "2019-10-21T14:15:29.885441Z",
          "start_time": "2019-10-21T14:15:29.877155Z"
        },
        "id": "ZTwurW_6x3J9"
      },
      "outputs": [],
      "source": [
        "from sklearn.metrics import confusion_matrix\n",
        "print(\"Confusion matrix:\")\n",
        "print(confusion_matrix(ytest, ypredict))"
      ]
    },
    {
      "cell_type": "code",
      "execution_count": null,
      "metadata": {
        "ExecuteTime": {
          "end_time": "2019-10-21T14:15:49.529641Z",
          "start_time": "2019-10-21T14:15:49.358830Z"
        },
        "id": "-LQDpmZZx3J-"
      },
      "outputs": [],
      "source": [
        "# Check some misclassified mails\n",
        "index = misclass_indices[0]+2000\n",
        "print(\"Prediction:\", spam_GP.predict(spam_data.word_count[index,:].toarray()))\n",
        "spam_data.print_email(index)"
      ]
    },
    {
      "cell_type": "markdown",
      "metadata": {
        "id": "ggUGgQdQx3J-"
      },
      "source": [
        "## <a id=\"sec4-2\"></a> 4.2 NIST"
      ]
    },
    {
      "cell_type": "code",
      "execution_count": null,
      "metadata": {
        "ExecuteTime": {
          "end_time": "2019-10-21T14:16:15.616110Z",
          "start_time": "2019-10-21T14:16:15.501553Z"
        },
        "id": "zgmSPRiwx3J-"
      },
      "outputs": [],
      "source": [
        "from sklearn import datasets\n",
        "%matplotlib inline\n",
        "import matplotlib.pyplot as plt\n",
        "\n",
        "digits = datasets.load_digits()\n",
        "print(digits.data.shape)\n",
        "print(digits.images.shape)\n",
        "print(digits.target.shape)\n",
        "print(digits.target_names)\n",
        "\n",
        "X = digits.data\n",
        "y = digits.target\n",
        "Xtrain,Xtest = np.split(X,[1000])\n",
        "ytrain,ytest = np.split(y,[1000])"
      ]
    },
    {
      "cell_type": "code",
      "execution_count": null,
      "metadata": {
        "ExecuteTime": {
          "end_time": "2019-10-21T14:16:24.435470Z",
          "start_time": "2019-10-21T14:16:24.429540Z"
        },
        "id": "i8VdEbGRx3J-"
      },
      "outputs": [],
      "source": [
        "from sklearn.utils import shuffle\n",
        "\n",
        "def shuffle_and_split(X,y,n):\n",
        "    X0,y0 = shuffle(X,y)\n",
        "    Xtrain,Xtest = np.split(X0,[n])\n",
        "    ytrain,ytest = np.split(y0,[n])\n",
        "    return Xtrain, ytrain, Xtest, ytest"
      ]
    },
    {
      "cell_type": "code",
      "execution_count": null,
      "metadata": {
        "ExecuteTime": {
          "end_time": "2019-10-21T14:21:17.605159Z",
          "start_time": "2019-10-21T14:21:12.234639Z"
        },
        "id": "pr-ejF9wx3J_"
      },
      "outputs": [],
      "source": [
        "Xtrain, ytrain, Xtest, ytest = shuffle_and_split(X,y,1000)\n",
        "print(Xtrain.shape)\n",
        "print(ytrain.shape)\n",
        "digits_gp = GaussianProcessClassifier()\n",
        "digits_gp.fit(Xtrain,ytrain)\n",
        "prediction = digits_gp.predict(Xtest)\n",
        "#print(\"Training error:\", np.sum(np.not_equal(prediction,ytest))/len(ytest))\n",
        "print(\"Generalization error:\", np.sum(np.not_equal(prediction,ytest))/len(ytest) )\n",
        "print(\"Generalization score:\", digits_gp.score(Xtest,ytest))\n",
        "print(\"Confusion matrix:\")\n",
        "print(confusion_matrix(ytest, prediction))"
      ]
    },
    {
      "cell_type": "markdown",
      "metadata": {
        "id": "Y7JW8Nfbx3J_"
      },
      "source": [
        "A perfect illustration that (often) ML methods don't work out-of-the-box and require some engineering knowledge just like any other modeling method. Here for example, a data scientist might investigate the kernel's properties, the marginal likelihood optimization procedure, the data distribution..., while the computer vision expert might question the use of pixel data as input.\n",
        "\n",
        "For instance, try `digits_gp = GaussianProcessClassifier(multi_class=\"one_vs_one\")` and try to explain what has changed."
      ]
    },
    {
      "cell_type": "code",
      "execution_count": null,
      "metadata": {
        "id": "0hhH4rpyx3J_"
      },
      "outputs": [],
      "source": []
    },
    {
      "cell_type": "markdown",
      "metadata": {
        "id": "BAb5_x46x3J_"
      },
      "source": [
        "# <a id=\"sec4\"></a> 4.3 Cancer mortality Examples\n",
        "\n",
        "The OLS regression challenge tasks you with predicting cancer mortality rates for US counties. The dataset contains data from cancer.gov, clinicaltrials.gov, and the American Community Survey. It is in CSV format and includes the following information about cancer in the US: death rates, reported cases, US county name, income per county, population, demographics and more.  \n",
        "\n",
        "[Dataset for cancer mortality](https://data.world/nrippner/ols-regression-challenge)\n",
        "\n",
        "**Question** :\n",
        "- What is the main limitation in using GP with this dataset ?\n",
        "- Using GP, make a predictor on the target variable\n",
        "- What are the main possible improvements ?\n"
      ]
    },
    {
      "cell_type": "code",
      "execution_count": null,
      "metadata": {
        "id": "Dwg26ofcx3J_"
      },
      "outputs": [],
      "source": [
        "import pandas as pd\n",
        "pd.read_csv(\"../data/cancer/cancer_reg.csv\",encoding = \"ISO-8859-1\")"
      ]
    },
    {
      "cell_type": "markdown",
      "metadata": {
        "id": "wBmIw4d-x3KA"
      },
      "source": []
    }
  ],
  "metadata": {
    "kernelspec": {
      "display_name": "Python 3",
      "language": "python",
      "name": "python3"
    },
    "language_info": {
      "codemirror_mode": {
        "name": "ipython",
        "version": 3
      },
      "file_extension": ".py",
      "mimetype": "text/x-python",
      "name": "python",
      "nbconvert_exporter": "python",
      "pygments_lexer": "ipython3",
      "version": "3.8.3"
    },
    "latex_envs": {
      "LaTeX_envs_menu_present": true,
      "autoclose": false,
      "autocomplete": true,
      "bibliofile": "biblio.bib",
      "cite_by": "apalike",
      "current_citInitial": 1,
      "eqLabelWithNumbers": false,
      "eqNumInitial": 1,
      "hotkeys": {
        "equation": "Ctrl-E",
        "itemize": "Ctrl-I"
      },
      "labels_anchors": false,
      "latex_user_defs": false,
      "report_style_numbering": false,
      "user_envs_cfg": false
    },
    "toc": {
      "base_numbering": 1,
      "nav_menu": {},
      "number_sections": true,
      "sideBar": true,
      "skip_h1_title": false,
      "title_cell": "Table of Contents",
      "title_sidebar": "Contents",
      "toc_cell": false,
      "toc_position": {},
      "toc_section_display": true,
      "toc_window_display": true
    },
    "colab": {
      "provenance": []
    }
  },
  "nbformat": 4,
  "nbformat_minor": 0
}